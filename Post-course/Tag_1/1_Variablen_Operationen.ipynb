{
 "cells": [
  {
   "cell_type": "markdown",
   "id": "0170007e-e5c6-4560-a4d8-5d279bc4cf8a",
   "metadata": {},
   "source": [
    "# 1 - Setup"
   ]
  },
  {
   "cell_type": "markdown",
   "id": "b5e67c2f-49cc-4b15-99b8-efe258e2240c",
   "metadata": {},
   "source": [
    "[<img src=\"bilder/python.png\"  width=\"400\" height=\"200\"  title=\"Python Webpage\">](https://www.python.org/)"
   ]
  },
  {
   "cell_type": "markdown",
   "id": "e2360a92-da16-4504-86b1-03c0a976fe44",
   "metadata": {},
   "source": [
    "## Was ist Python?\n",
    "\n",
    "Python ist eine Programmiersprache:\n",
    "- **Highlevel** : Seine Befehle sind leicht zu verstehen und es erledigt viele Aufgaben automatisch. Es ist eine Maske für andere niedrige Programmiersprachen (nämlich C)\n",
    "- **Interpretiert** : Der Interpreter führt den Quellcode Zeile für Zeile aus, ohne ihn zu kompilieren. Das macht ihn zwar flexibler und geeigneter für die Entwicklung (autocomplete), aber er ist im Vergleich zu anderen Sprachen eher langsam\n",
    "- **Vielseitig** : es wird in der Webentwicklung, der Datenanalyse, der künstlichen Intelligenz, der wissenschaftlichen Datenverarbeitung und mehr eingesetzt\n",
    "- **Objektorientierte Programmierung (OOP)** : Auf dem Konzept der \"Objekte\" basiert, die Daten (Attribute oder Eigenschaften) und Code (Methoden oder Funktionen) enthalten können. In OOP werden Programme durch das Erstellen, Bearbeiten und Interagieren mit diesen Objekten entworfen"
   ]
  },
  {
   "cell_type": "markdown",
   "id": "be369497-7b3d-40fe-8b04-ed3b8833efd8",
   "metadata": {},
   "source": [
    "[<img src=\"bilder/jupyter_lab.png\"  width=\"400\" height=\"200\"  title=\"Jupyter Lab Webpage\">](https://jupyter.org/)"
   ]
  },
  {
   "cell_type": "markdown",
   "id": "e662473b-e952-435a-a3b1-bbcc9e3a5ac6",
   "metadata": {},
   "source": [
    "## Was ist JupyterLab?\n",
    "\n",
    "JupyterLab ist eine interaktive Entwicklungsumgebung\n",
    "\n",
    "- **Notebooks** : Mit denen wir Code, Text und Visualisierungen kombinieren können. Ideal für <ins>Entwicklung</ins>\n",
    "- **Code** : Viele Spachen sind verfügbar (Python, R, C++, JavaScript, ...)\n",
    "- **Text** : mit [Markdown](https://www.markdownguide.org/basic-syntax/) definiert "
   ]
  },
  {
   "cell_type": "code",
   "execution_count": 1,
   "id": "3eb6f33a-34db-48ce-9deb-729876f12f84",
   "metadata": {},
   "outputs": [
    {
     "name": "stdout",
     "output_type": "stream",
     "text": [
      "Hello world!\n"
     ]
    }
   ],
   "source": [
    "print('Hello world!')"
   ]
  },
  {
   "cell_type": "markdown",
   "id": "1c59bcd7-131c-43a2-bd4f-9615d0bfb9e6",
   "metadata": {},
   "source": [
    "## 2 - Numerische Variablen"
   ]
  },
  {
   "cell_type": "markdown",
   "id": "7f9ded73-c1aa-4093-9597-e33d393ad021",
   "metadata": {},
   "source": [
    "In Python gibt es verschiedene Typen numerischer Variablen:"
   ]
  },
  {
   "cell_type": "code",
   "execution_count": 2,
   "id": "61c0a8cf-4b97-4e77-9ce3-7f979b3ec39c",
   "metadata": {},
   "outputs": [
    {
     "data": {
      "text/plain": [
       "int"
      ]
     },
     "execution_count": 2,
     "metadata": {},
     "output_type": "execute_result"
    }
   ],
   "source": [
    "type(42) # int ist ein ganze Zahl. \n",
    "# Ganzzahlen in Python haben eine unbegrenzte Genauigkeit, \n",
    "# d. h. sie können sehr große oder sehr kleine Zahlen darstellen, ohne an Genauigkeit zu verlieren."
   ]
  },
  {
   "cell_type": "code",
   "execution_count": 3,
   "id": "487f8840-ab07-47d8-b959-53021107ae4c",
   "metadata": {},
   "outputs": [
    {
     "data": {
      "text/plain": [
       "float"
      ]
     },
     "execution_count": 3,
     "metadata": {},
     "output_type": "execute_result"
    }
   ],
   "source": [
    "type(4.2) # float is ein Fließkommazahl\n",
    "# Sie stellen reelle Zahlen dar, einschließlich Zahlen mit einem Bruchteil.\n",
    "# Fließkommazahlen in Python folgen dem IEEE 754-Standard für die Darstellung reeller Zahlen in Computern, was bedeutet, dass sie eine begrenzte Genauigkeit haben. \n",
    "# Dies kann manchmal zu kleinen Rundungsfehlern führen, wenn arithmetische Operationen mit Fließkommazahlen durchgeführt werden."
   ]
  },
  {
   "cell_type": "code",
   "execution_count": 4,
   "id": "9dca82a1-075e-4aa9-8dd2-4bc840580cbe",
   "metadata": {},
   "outputs": [
    {
     "data": {
      "text/plain": [
       "float"
      ]
     },
     "execution_count": 4,
     "metadata": {},
     "output_type": "execute_result"
    }
   ],
   "source": [
    "type(42+4.2)"
   ]
  },
  {
   "cell_type": "markdown",
   "id": "54a0f57b-46c2-4cb6-a63f-95c410e1b2a7",
   "metadata": {},
   "source": [
    "Python hat viele verfügbare Operationen \"Out of the box\""
   ]
  },
  {
   "cell_type": "code",
   "execution_count": 5,
   "id": "7db4c31e-58b1-406e-9b07-1f95a2babc22",
   "metadata": {},
   "outputs": [
    {
     "data": {
      "text/plain": [
       "46"
      ]
     },
     "execution_count": 5,
     "metadata": {},
     "output_type": "execute_result"
    }
   ],
   "source": [
    "42+4 # addition"
   ]
  },
  {
   "cell_type": "code",
   "execution_count": 6,
   "id": "c5927496-1a70-467f-9b7e-be956ad91ee1",
   "metadata": {},
   "outputs": [
    {
     "data": {
      "text/plain": [
       "38"
      ]
     },
     "execution_count": 6,
     "metadata": {},
     "output_type": "execute_result"
    }
   ],
   "source": [
    "42-4 # subtraktion"
   ]
  },
  {
   "cell_type": "code",
   "execution_count": 7,
   "id": "78d394f5-dd00-4b59-8ecc-b66e6204a3d8",
   "metadata": {},
   "outputs": [
    {
     "data": {
      "text/plain": [
       "168"
      ]
     },
     "execution_count": 7,
     "metadata": {},
     "output_type": "execute_result"
    }
   ],
   "source": [
    "42*4 # multiplikation"
   ]
  },
  {
   "cell_type": "code",
   "execution_count": 8,
   "id": "28a1176b-27b7-4d4b-897a-771f8ce17217",
   "metadata": {},
   "outputs": [
    {
     "data": {
      "text/plain": [
       "10.5"
      ]
     },
     "execution_count": 8,
     "metadata": {},
     "output_type": "execute_result"
    }
   ],
   "source": [
    "42/4 # division"
   ]
  },
  {
   "cell_type": "code",
   "execution_count": 9,
   "id": "0483f8b5-0197-4656-8362-88749ee66b9a",
   "metadata": {},
   "outputs": [
    {
     "data": {
      "text/plain": [
       "10"
      ]
     },
     "execution_count": 9,
     "metadata": {},
     "output_type": "execute_result"
    }
   ],
   "source": [
    "42//4 # bodenteilung, Rückgabe des ganzzahligen Quotienten"
   ]
  },
  {
   "cell_type": "code",
   "execution_count": 10,
   "id": "b4e5da07-7203-4cdb-9731-cef6e782427b",
   "metadata": {},
   "outputs": [
    {
     "data": {
      "text/plain": [
       "2"
      ]
     },
     "execution_count": 10,
     "metadata": {},
     "output_type": "execute_result"
    }
   ],
   "source": [
    "42%4 # liefert den Rest der Division"
   ]
  },
  {
   "cell_type": "code",
   "execution_count": 11,
   "id": "e25d8275-5ff1-4fce-bc5c-7c5bf990b70a",
   "metadata": {},
   "outputs": [
    {
     "data": {
      "text/plain": [
       "3111696"
      ]
     },
     "execution_count": 11,
     "metadata": {},
     "output_type": "execute_result"
    }
   ],
   "source": [
    "42**4 # potenzierung"
   ]
  },
  {
   "cell_type": "markdown",
   "id": "f17a0d16-b413-48d7-b95c-4468c184bf63",
   "metadata": {},
   "source": [
    "## 3 - Strings"
   ]
  },
  {
   "cell_type": "markdown",
   "id": "c2fcccf6-b4d6-40ac-a50e-1f597a67903c",
   "metadata": {},
   "source": [
    "Strings sind Anordnungen von Zeichen, die Text (Wörter, Sätze, Absätze) darstellen.<br>\n",
    "Sie sind mit '  ' oder \"  \" identifiziert.\n",
    "Python hat eine [lange Liste von Methoden](https://docs.python.org/3.8/library/stdtypes.html#string-methods) für Strings"
   ]
  },
  {
   "cell_type": "code",
   "execution_count": 13,
   "id": "9afa50fe-1031-4a06-a7b0-d12fe8aca4df",
   "metadata": {},
   "outputs": [
    {
     "data": {
      "text/plain": [
       "str"
      ]
     },
     "execution_count": 13,
     "metadata": {},
     "output_type": "execute_result"
    }
   ],
   "source": [
    "type('Hello world')"
   ]
  },
  {
   "cell_type": "code",
   "execution_count": 14,
   "id": "7fc00476-a83c-4069-889c-41910c158bf6",
   "metadata": {},
   "outputs": [],
   "source": [
    "# Wir können in Python sehr einfach eine Variable zuweisen\n",
    "a = 'Hello world'"
   ]
  },
  {
   "cell_type": "code",
   "execution_count": 15,
   "id": "ff8c097c-4441-4eba-aa4c-d07f5b63d673",
   "metadata": {},
   "outputs": [
    {
     "data": {
      "text/plain": [
       "'Hello world'"
      ]
     },
     "execution_count": 15,
     "metadata": {},
     "output_type": "execute_result"
    }
   ],
   "source": [
    "a"
   ]
  },
  {
   "cell_type": "code",
   "execution_count": 16,
   "id": "5bb9232a-1d68-4e24-944c-22dfda28bc38",
   "metadata": {},
   "outputs": [],
   "source": [
    "a = 4"
   ]
  },
  {
   "cell_type": "code",
   "execution_count": 17,
   "id": "6ed0844a-5b02-48ad-affb-c3670a375678",
   "metadata": {},
   "outputs": [
    {
     "data": {
      "text/plain": [
       "4"
      ]
     },
     "execution_count": 17,
     "metadata": {},
     "output_type": "execute_result"
    }
   ],
   "source": [
    "a"
   ]
  },
  {
   "cell_type": "code",
   "execution_count": 18,
   "id": "0ee6df08-4055-4f5b-9b4f-205ac7933dc3",
   "metadata": {},
   "outputs": [],
   "source": [
    "a = 'Hello world'"
   ]
  },
  {
   "cell_type": "code",
   "execution_count": 22,
   "id": "23796469-8bc6-4838-8353-8f21941179b8",
   "metadata": {},
   "outputs": [
    {
     "data": {
      "text/plain": [
       "['Hello', 'world']"
      ]
     },
     "execution_count": 22,
     "metadata": {},
     "output_type": "execute_result"
    }
   ],
   "source": [
    "# Ein Satz teilen\n",
    "a.split()"
   ]
  },
  {
   "cell_type": "code",
   "execution_count": 23,
   "id": "d299b3ff-06a1-4457-ab4b-d9f4bc520123",
   "metadata": {},
   "outputs": [
    {
     "data": {
      "text/plain": [
       "'hello world'"
      ]
     },
     "execution_count": 23,
     "metadata": {},
     "output_type": "execute_result"
    }
   ],
   "source": [
    "# Kleinbuchstaben\n",
    "a.lower()"
   ]
  },
  {
   "cell_type": "code",
   "execution_count": 24,
   "id": "2428b5cf-0cea-47b3-80f2-7e7b41ad6f40",
   "metadata": {},
   "outputs": [
    {
     "data": {
      "text/plain": [
       "6"
      ]
     },
     "execution_count": 24,
     "metadata": {},
     "output_type": "execute_result"
    }
   ],
   "source": [
    "# Zeichenkette suchen\n",
    "a.find('world')"
   ]
  },
  {
   "cell_type": "code",
   "execution_count": 120,
   "id": "79ceb13a-a7a8-450c-b8b7-5dd53537a680",
   "metadata": {},
   "outputs": [
    {
     "data": {
      "text/plain": [
       "'Helloworld'"
      ]
     },
     "execution_count": 120,
     "metadata": {},
     "output_type": "execute_result"
    }
   ],
   "source": [
    "'Hello' + 'world'"
   ]
  },
  {
   "cell_type": "code",
   "execution_count": 121,
   "id": "2cab079b-c99d-4d83-947c-6d7473f3df0b",
   "metadata": {},
   "outputs": [
    {
     "data": {
      "text/plain": [
       "'Hello world'"
      ]
     },
     "execution_count": 121,
     "metadata": {},
     "output_type": "execute_result"
    }
   ],
   "source": [
    "'Hello' + ' ' + 'world'"
   ]
  },
  {
   "cell_type": "code",
   "execution_count": 122,
   "id": "3fc99c08-cb98-4989-a2d6-6b5e173b9111",
   "metadata": {},
   "outputs": [],
   "source": [
    "vorname = 'Julia'\n",
    "Nachname = 'Schimdt'"
   ]
  },
  {
   "cell_type": "code",
   "execution_count": 123,
   "id": "2ffd2775-d67b-493c-a42b-def50a344336",
   "metadata": {},
   "outputs": [
    {
     "data": {
      "text/plain": [
       "'Hi! Ich heisse Julia Schimdt'"
      ]
     },
     "execution_count": 123,
     "metadata": {},
     "output_type": "execute_result"
    }
   ],
   "source": [
    "f\"Hi! Ich heisse {vorname} {Nachname}\""
   ]
  },
  {
   "cell_type": "markdown",
   "id": "2e88c749-f90c-4514-9a76-671988e11f08",
   "metadata": {},
   "source": [
    "## 4 - Logische Variablen"
   ]
  },
  {
   "cell_type": "markdown",
   "id": "b06f260c-f893-40c7-912f-2c967e23018a",
   "metadata": {},
   "source": [
    "Variblen die in logische Operationen (gleich, ungleich, usw.) verwendet werden können.<br>\n",
    "Meistens <ins>\"boolean\"</ins>: True und False"
   ]
  },
  {
   "cell_type": "code",
   "execution_count": 25,
   "id": "4c82ff84-feab-4506-b49e-a85209d79f8f",
   "metadata": {},
   "outputs": [
    {
     "data": {
      "text/plain": [
       "bool"
      ]
     },
     "execution_count": 25,
     "metadata": {},
     "output_type": "execute_result"
    }
   ],
   "source": [
    "type(True)"
   ]
  },
  {
   "cell_type": "code",
   "execution_count": 26,
   "id": "94e419f4-030e-4854-a16b-aece5a5bf614",
   "metadata": {},
   "outputs": [
    {
     "data": {
      "text/plain": [
       "bool"
      ]
     },
     "execution_count": 26,
     "metadata": {},
     "output_type": "execute_result"
    }
   ],
   "source": [
    "type(False)"
   ]
  },
  {
   "cell_type": "code",
   "execution_count": 36,
   "id": "3da31ce0-76ee-4fcf-9e3e-d50387091394",
   "metadata": {},
   "outputs": [
    {
     "data": {
      "text/plain": [
       "False"
      ]
     },
     "execution_count": 36,
     "metadata": {},
     "output_type": "execute_result"
    }
   ],
   "source": [
    "True == False # gleich"
   ]
  },
  {
   "cell_type": "code",
   "execution_count": 37,
   "id": "d85f406c-257b-4902-80a6-6274b400353f",
   "metadata": {},
   "outputs": [
    {
     "data": {
      "text/plain": [
       "True"
      ]
     },
     "execution_count": 37,
     "metadata": {},
     "output_type": "execute_result"
    }
   ],
   "source": [
    "True != False # ungleich"
   ]
  },
  {
   "cell_type": "code",
   "execution_count": 38,
   "id": "446bcff5-6e94-4831-953a-af4059afae60",
   "metadata": {},
   "outputs": [
    {
     "data": {
      "text/plain": [
       "False"
      ]
     },
     "execution_count": 38,
     "metadata": {},
     "output_type": "execute_result"
    }
   ],
   "source": [
    "not True # negation"
   ]
  },
  {
   "cell_type": "code",
   "execution_count": 39,
   "id": "92551916-4309-46c9-95a2-4b50e7cc62f4",
   "metadata": {},
   "outputs": [
    {
     "data": {
      "text/plain": [
       "False"
      ]
     },
     "execution_count": 39,
     "metadata": {},
     "output_type": "execute_result"
    }
   ],
   "source": [
    "True and False # und"
   ]
  },
  {
   "cell_type": "code",
   "execution_count": 41,
   "id": "932f638f-f796-4dbe-85ed-384e0934593c",
   "metadata": {},
   "outputs": [
    {
     "data": {
      "text/plain": [
       "True"
      ]
     },
     "execution_count": 41,
     "metadata": {},
     "output_type": "execute_result"
    }
   ],
   "source": [
    "True or False # oder"
   ]
  },
  {
   "cell_type": "markdown",
   "id": "e5330a3e-5c22-4d16-9f30-89c73392b78e",
   "metadata": {},
   "source": [
    "Einige Werte sind so <ins>ähnlich</ins> wie True oder False, dass Python die <ins>Entsprechung automatisch</ins> vornimmt (\"Truethy\" und \"Falsy\")"
   ]
  },
  {
   "cell_type": "code",
   "execution_count": 29,
   "id": "6d7fc2a9-cb2e-483e-96ca-823de1e6027b",
   "metadata": {},
   "outputs": [
    {
     "data": {
      "text/plain": [
       "True"
      ]
     },
     "execution_count": 29,
     "metadata": {},
     "output_type": "execute_result"
    }
   ],
   "source": [
    "True == 1"
   ]
  },
  {
   "cell_type": "code",
   "execution_count": 34,
   "id": "2f741ac4-ff5e-46a6-8c45-11b87de02dd4",
   "metadata": {},
   "outputs": [
    {
     "data": {
      "text/plain": [
       "True"
      ]
     },
     "execution_count": 34,
     "metadata": {},
     "output_type": "execute_result"
    }
   ],
   "source": [
    "False == 0"
   ]
  },
  {
   "cell_type": "code",
   "execution_count": 35,
   "id": "88e7959f-4cac-44d8-b2ce-3a2117e3aa57",
   "metadata": {},
   "outputs": [
    {
     "data": {
      "text/plain": [
       "True"
      ]
     },
     "execution_count": 35,
     "metadata": {},
     "output_type": "execute_result"
    }
   ],
   "source": [
    "False == 0.0"
   ]
  },
  {
   "cell_type": "code",
   "execution_count": 33,
   "id": "bf7b413f-6fbd-4c13-81e5-7ef19ded8c94",
   "metadata": {},
   "outputs": [
    {
     "data": {
      "text/plain": [
       "False"
      ]
     },
     "execution_count": 33,
     "metadata": {},
     "output_type": "execute_result"
    }
   ],
   "source": [
    "True == 1.1"
   ]
  },
  {
   "cell_type": "markdown",
   "id": "ec8869c3-841c-437f-a2fb-bd7ad5052446",
   "metadata": {},
   "source": [
    "Numerische Vergleichungen sind auch sehr einfach zu verstehen"
   ]
  },
  {
   "cell_type": "code",
   "execution_count": 49,
   "id": "ea3fd3c4-077e-4022-85d2-98d10e7ab864",
   "metadata": {},
   "outputs": [
    {
     "data": {
      "text/plain": [
       "False"
      ]
     },
     "execution_count": 49,
     "metadata": {},
     "output_type": "execute_result"
    }
   ],
   "source": [
    "8 < 1"
   ]
  },
  {
   "cell_type": "code",
   "execution_count": 50,
   "id": "7b9b6c67-3d26-4355-a01f-506d7f38e189",
   "metadata": {},
   "outputs": [
    {
     "data": {
      "text/plain": [
       "True"
      ]
     },
     "execution_count": 50,
     "metadata": {},
     "output_type": "execute_result"
    }
   ],
   "source": [
    "8 > 1"
   ]
  },
  {
   "cell_type": "code",
   "execution_count": 51,
   "id": "fd6840a5-6b8e-4bcf-a131-3f65c605154d",
   "metadata": {},
   "outputs": [
    {
     "data": {
      "text/plain": [
       "True"
      ]
     },
     "execution_count": 51,
     "metadata": {},
     "output_type": "execute_result"
    }
   ],
   "source": [
    "8 >= 1"
   ]
  },
  {
   "cell_type": "code",
   "execution_count": 52,
   "id": "5129afcb-eb62-42e8-ac6a-2e2f255db54a",
   "metadata": {},
   "outputs": [
    {
     "data": {
      "text/plain": [
       "True"
      ]
     },
     "execution_count": 52,
     "metadata": {},
     "output_type": "execute_result"
    }
   ],
   "source": [
    "8.8 >= 1"
   ]
  },
  {
   "cell_type": "markdown",
   "id": "18a43040-a3c4-42a9-a365-084bccbe5e20",
   "metadata": {},
   "source": [
    "Oder **str** Vergleichungen "
   ]
  },
  {
   "cell_type": "code",
   "execution_count": 56,
   "id": "7240a43e-72f2-4f6e-98d0-47bc0541ab10",
   "metadata": {},
   "outputs": [
    {
     "data": {
      "text/plain": [
       "True"
      ]
     },
     "execution_count": 56,
     "metadata": {},
     "output_type": "execute_result"
    }
   ],
   "source": [
    "a == 'Hello world'"
   ]
  },
  {
   "cell_type": "code",
   "execution_count": 57,
   "id": "9b201eb6-8d59-4a6d-9ef4-aa2c31589030",
   "metadata": {},
   "outputs": [
    {
     "data": {
      "text/plain": [
       "False"
      ]
     },
     "execution_count": 57,
     "metadata": {},
     "output_type": "execute_result"
    }
   ],
   "source": [
    "'heute' == 'morgen'"
   ]
  },
  {
   "cell_type": "code",
   "execution_count": 58,
   "id": "97913662-7d37-4bcc-91d5-557d39a514f1",
   "metadata": {},
   "outputs": [
    {
     "data": {
      "text/plain": [
       "True"
      ]
     },
     "execution_count": 58,
     "metadata": {},
     "output_type": "execute_result"
    }
   ],
   "source": [
    "'heute' != 'morgen'"
   ]
  },
  {
   "cell_type": "markdown",
   "id": "0cd3362e-7948-4f49-bd89-bc3aa621d38a",
   "metadata": {},
   "source": [
    "## 5 - Strukturen"
   ]
  },
  {
   "cell_type": "markdown",
   "id": "765b9a7e-9561-499a-9bfc-2a2c7092e31b",
   "metadata": {},
   "source": [
    "Es ist oft sinnvoll, Variablen in Strukturen zu gruppieren, um eine Beziehung zwischen ihnen zu definieren"
   ]
  },
  {
   "cell_type": "markdown",
   "id": "03b2bc0c-5289-48bb-b537-a19669319db4",
   "metadata": {},
   "source": [
    "### List\n",
    "Geordnete Sammlungen von Elementen, die verschiedene Datentypen enthalten können"
   ]
  },
  {
   "cell_type": "code",
   "execution_count": 125,
   "id": "3a3c0047-82b7-4cbc-b612-3affcefb439c",
   "metadata": {},
   "outputs": [
    {
     "data": {
      "text/plain": [
       "[2, 'three']"
      ]
     },
     "execution_count": 125,
     "metadata": {},
     "output_type": "execute_result"
    }
   ],
   "source": [
    "# list\n",
    "[2, 'three']"
   ]
  },
  {
   "cell_type": "code",
   "execution_count": 126,
   "id": "5f021475-1e4a-41d4-b1c3-012c6485c6ba",
   "metadata": {},
   "outputs": [],
   "source": [
    "lst = [2, 'three',True]"
   ]
  },
  {
   "cell_type": "code",
   "execution_count": 127,
   "id": "4e133e09-dd6e-427a-8929-29837ffedb29",
   "metadata": {},
   "outputs": [
    {
     "data": {
      "text/plain": [
       "list"
      ]
     },
     "execution_count": 127,
     "metadata": {},
     "output_type": "execute_result"
    }
   ],
   "source": [
    "type(lst)"
   ]
  },
  {
   "cell_type": "code",
   "execution_count": 128,
   "id": "778dc951-9eff-4c38-b28a-7eaeac7ebd38",
   "metadata": {},
   "outputs": [
    {
     "data": {
      "text/plain": [
       "2"
      ]
     },
     "execution_count": 128,
     "metadata": {},
     "output_type": "execute_result"
    }
   ],
   "source": [
    "# Zugriff auf eine bestimmte Position in der Liste\n",
    "lst[0]"
   ]
  },
  {
   "cell_type": "code",
   "execution_count": 129,
   "id": "a9f73f2a-bab0-4a0e-b03f-e4d1ff0ee6f8",
   "metadata": {},
   "outputs": [
    {
     "data": {
      "text/plain": [
       "'three'"
      ]
     },
     "execution_count": 129,
     "metadata": {},
     "output_type": "execute_result"
    }
   ],
   "source": [
    "lst[1]"
   ]
  },
  {
   "cell_type": "code",
   "execution_count": 130,
   "id": "d643ef2d-bd6e-4f49-aac6-b62b14a7e4cb",
   "metadata": {},
   "outputs": [
    {
     "data": {
      "text/plain": [
       "True"
      ]
     },
     "execution_count": 130,
     "metadata": {},
     "output_type": "execute_result"
    }
   ],
   "source": [
    "# Zugriff auf die letzte Position in der Liste\n",
    "lst[-1]"
   ]
  },
  {
   "cell_type": "code",
   "execution_count": 131,
   "id": "d76be598-5a7d-457b-bf7f-9913d36902d2",
   "metadata": {},
   "outputs": [
    {
     "data": {
      "text/plain": [
       "3"
      ]
     },
     "execution_count": 131,
     "metadata": {},
     "output_type": "execute_result"
    }
   ],
   "source": [
    "# Liste Größe\n",
    "len(lst)"
   ]
  },
  {
   "cell_type": "code",
   "execution_count": 132,
   "id": "6f319121-3fc7-4d02-b84b-d59a21492a4d",
   "metadata": {},
   "outputs": [
    {
     "data": {
      "text/plain": [
       "True"
      ]
     },
     "execution_count": 132,
     "metadata": {},
     "output_type": "execute_result"
    }
   ],
   "source": [
    "# suchen in die Liste\n",
    "'three' in lst"
   ]
  },
  {
   "cell_type": "code",
   "execution_count": 133,
   "id": "7a95e042-6f9e-4a8a-8e12-23452df00073",
   "metadata": {},
   "outputs": [],
   "source": [
    "lst.append(4)"
   ]
  },
  {
   "cell_type": "code",
   "execution_count": 134,
   "id": "944e14a3-0287-49e7-a8a3-ffceb0652ef7",
   "metadata": {},
   "outputs": [
    {
     "data": {
      "text/plain": [
       "[2, 'three', True, 4]"
      ]
     },
     "execution_count": 134,
     "metadata": {},
     "output_type": "execute_result"
    }
   ],
   "source": [
    "lst"
   ]
  },
  {
   "cell_type": "code",
   "execution_count": 135,
   "id": "edec7d04-af5a-4046-bc13-67c05d5821e6",
   "metadata": {},
   "outputs": [
    {
     "data": {
      "text/plain": [
       "[2, 3, True, 4]"
      ]
     },
     "execution_count": 135,
     "metadata": {},
     "output_type": "execute_result"
    }
   ],
   "source": [
    "# Element ändern\n",
    "lst[1] = 3\n",
    "lst"
   ]
  },
  {
   "cell_type": "code",
   "execution_count": 138,
   "id": "662d920b-2ff7-46db-a8e8-890705dbf5e5",
   "metadata": {},
   "outputs": [
    {
     "data": {
      "text/plain": [
       "[3, True]"
      ]
     },
     "execution_count": 138,
     "metadata": {},
     "output_type": "execute_result"
    }
   ],
   "source": [
    "# Bereich zugreifen\n",
    "lst[1:3]"
   ]
  },
  {
   "cell_type": "code",
   "execution_count": 139,
   "id": "0d2a5708-8932-4cee-b6ca-df16df902918",
   "metadata": {},
   "outputs": [
    {
     "data": {
      "text/plain": [
       "[2, 3, True]"
      ]
     },
     "execution_count": 139,
     "metadata": {},
     "output_type": "execute_result"
    }
   ],
   "source": [
    "lst[:3]"
   ]
  },
  {
   "cell_type": "markdown",
   "id": "7e1bbed4-cdb6-4c33-ab20-70ef95ec5247",
   "metadata": {},
   "source": [
    "<ins>str</ins> ist wirklich eine spezielle Liste von Zeichnen!\n"
   ]
  },
  {
   "cell_type": "code",
   "execution_count": 96,
   "id": "ad29da72-5f20-4f0d-b3ed-a0ed5389c8d2",
   "metadata": {},
   "outputs": [
    {
     "data": {
      "text/plain": [
       "'Hello world'"
      ]
     },
     "execution_count": 96,
     "metadata": {},
     "output_type": "execute_result"
    }
   ],
   "source": [
    "a"
   ]
  },
  {
   "cell_type": "code",
   "execution_count": 97,
   "id": "68a7027e-ecee-4c85-b22a-bc08b9bfed48",
   "metadata": {},
   "outputs": [
    {
     "data": {
      "text/plain": [
       "11"
      ]
     },
     "execution_count": 97,
     "metadata": {},
     "output_type": "execute_result"
    }
   ],
   "source": [
    "len(a)"
   ]
  },
  {
   "cell_type": "code",
   "execution_count": 98,
   "id": "a1fe5c75-7586-4795-b092-805003f47f7f",
   "metadata": {},
   "outputs": [
    {
     "data": {
      "text/plain": [
       "'d'"
      ]
     },
     "execution_count": 98,
     "metadata": {},
     "output_type": "execute_result"
    }
   ],
   "source": [
    "a[-1]"
   ]
  },
  {
   "cell_type": "code",
   "execution_count": 99,
   "id": "9b4ff6ae-17c6-45bc-a317-d1e3777b791f",
   "metadata": {},
   "outputs": [
    {
     "ename": "AttributeError",
     "evalue": "'str' object has no attribute 'append'",
     "output_type": "error",
     "traceback": [
      "\u001b[0;31m---------------------------------------------------------------------------\u001b[0m",
      "\u001b[0;31mAttributeError\u001b[0m                            Traceback (most recent call last)",
      "Cell \u001b[0;32mIn[99], line 1\u001b[0m\n\u001b[0;32m----> 1\u001b[0m \u001b[43ma\u001b[49m\u001b[38;5;241;43m.\u001b[39;49m\u001b[43mappend\u001b[49m(\u001b[38;5;124m'\u001b[39m\u001b[38;5;124m!\u001b[39m\u001b[38;5;124m'\u001b[39m)\n",
      "\u001b[0;31mAttributeError\u001b[0m: 'str' object has no attribute 'append'"
     ]
    }
   ],
   "source": [
    "a.append('!')"
   ]
  },
  {
   "cell_type": "markdown",
   "id": "4366ba6c-f38d-4bac-8346-a00ff61a3475",
   "metadata": {},
   "source": [
    "### tuple\n",
    "**Unveränderliche**, geordnete Sammlung von Elementen verschiedener Datentypen"
   ]
  },
  {
   "cell_type": "code",
   "execution_count": 100,
   "id": "6115f507-0c21-42c1-821c-68c14c33ba7c",
   "metadata": {},
   "outputs": [],
   "source": [
    "tp = (2,'three')"
   ]
  },
  {
   "cell_type": "code",
   "execution_count": 101,
   "id": "8605d48e-eff0-43b4-8217-a2388ff2c210",
   "metadata": {},
   "outputs": [
    {
     "data": {
      "text/plain": [
       "(2, 'three')"
      ]
     },
     "execution_count": 101,
     "metadata": {},
     "output_type": "execute_result"
    }
   ],
   "source": [
    "tp"
   ]
  },
  {
   "cell_type": "code",
   "execution_count": 106,
   "id": "98653012-dd6b-48ef-9e72-c99eec4898f6",
   "metadata": {},
   "outputs": [
    {
     "data": {
      "text/plain": [
       "tuple"
      ]
     },
     "execution_count": 106,
     "metadata": {},
     "output_type": "execute_result"
    }
   ],
   "source": [
    "type(tp)"
   ]
  },
  {
   "cell_type": "code",
   "execution_count": 102,
   "id": "fb2ceae4-f57e-4bab-81a0-16e78f1d519b",
   "metadata": {},
   "outputs": [
    {
     "data": {
      "text/plain": [
       "2"
      ]
     },
     "execution_count": 102,
     "metadata": {},
     "output_type": "execute_result"
    }
   ],
   "source": [
    "len(tp)"
   ]
  },
  {
   "cell_type": "markdown",
   "id": "5b282b5d-a7a1-4006-9f3a-1cf410cba4ea",
   "metadata": {},
   "source": [
    "### range\n",
    "Sequenz von Zahlen, die durch einen Anfangswert, einen Endwert und einen optionalen Schritt definiert wird und häufig in Schleifen und Iterationen verwendet wird"
   ]
  },
  {
   "cell_type": "code",
   "execution_count": 103,
   "id": "f4b2e847-121e-474a-a959-b1198e735a77",
   "metadata": {},
   "outputs": [
    {
     "data": {
      "text/plain": [
       "range(1, 5)"
      ]
     },
     "execution_count": 103,
     "metadata": {},
     "output_type": "execute_result"
    }
   ],
   "source": [
    "range(1,5)"
   ]
  },
  {
   "cell_type": "code",
   "execution_count": 104,
   "id": "c4af2b2e-7ec7-478b-9d99-2b6dc59db26b",
   "metadata": {},
   "outputs": [
    {
     "data": {
      "text/plain": [
       "range"
      ]
     },
     "execution_count": 104,
     "metadata": {},
     "output_type": "execute_result"
    }
   ],
   "source": [
    "type(range(1,5))"
   ]
  },
  {
   "cell_type": "markdown",
   "id": "f3de162d-2f80-4372-89bd-76234731c849",
   "metadata": {},
   "source": [
    "### dictionary\n",
    "Ungeordnete Sammlung von Elementen, die **Schlüssel-Wert-Paare** enthält"
   ]
  },
  {
   "cell_type": "code",
   "execution_count": 107,
   "id": "664830f4-8a88-478b-ba14-c29bdcb3ea06",
   "metadata": {},
   "outputs": [],
   "source": [
    "# ein Dictionary erstellen\n",
    "dc = {\n",
    "    'key_0' : 1,\n",
    "    'key_1' : 2,\n",
    "    'key_2' : 1,\n",
    "}"
   ]
  },
  {
   "cell_type": "code",
   "execution_count": 111,
   "id": "4f9d835c-370a-42a3-a249-20d5b3e910fe",
   "metadata": {},
   "outputs": [
    {
     "data": {
      "text/plain": [
       "dict"
      ]
     },
     "execution_count": 111,
     "metadata": {},
     "output_type": "execute_result"
    }
   ],
   "source": [
    "type(dc)"
   ]
  },
  {
   "cell_type": "code",
   "execution_count": 112,
   "id": "29ca1af0-c200-42ec-a60e-08c51b35f584",
   "metadata": {},
   "outputs": [
    {
     "data": {
      "text/plain": [
       "{'key_0': 1, 'key_1': 2, 'key_2': 1}"
      ]
     },
     "execution_count": 112,
     "metadata": {},
     "output_type": "execute_result"
    }
   ],
   "source": [
    "# wie sieht es aus?\n",
    "dc"
   ]
  },
  {
   "cell_type": "code",
   "execution_count": 113,
   "id": "48e6d535-e020-4476-991b-997c689f73ea",
   "metadata": {},
   "outputs": [
    {
     "data": {
      "text/plain": [
       "3"
      ]
     },
     "execution_count": 113,
     "metadata": {},
     "output_type": "execute_result"
    }
   ],
   "source": [
    "len(dc)"
   ]
  },
  {
   "cell_type": "code",
   "execution_count": 117,
   "id": "5285f79a-3e16-464f-9fcc-05c5607a30db",
   "metadata": {},
   "outputs": [
    {
     "data": {
      "text/plain": [
       "<function dict.keys>"
      ]
     },
     "execution_count": 117,
     "metadata": {},
     "output_type": "execute_result"
    }
   ],
   "source": [
    "# eine Liste von Keys\n",
    "dc.keys"
   ]
  },
  {
   "cell_type": "code",
   "execution_count": 1,
   "id": "c5e80c86-ee0e-433d-a732-04663b17f0c9",
   "metadata": {},
   "outputs": [
    {
     "ename": "NameError",
     "evalue": "name 'dc' is not defined",
     "output_type": "error",
     "traceback": [
      "\u001b[0;31m---------------------------------------------------------------------------\u001b[0m",
      "\u001b[0;31mNameError\u001b[0m                                 Traceback (most recent call last)",
      "Cell \u001b[0;32mIn[1], line 2\u001b[0m\n\u001b[1;32m      1\u001b[0m \u001b[38;5;66;03m# aber wir brauchen ein () am ende, weil es eine Methode ist\u001b[39;00m\n\u001b[0;32m----> 2\u001b[0m \u001b[43mdc\u001b[49m\u001b[38;5;241m.\u001b[39mkeys()\n",
      "\u001b[0;31mNameError\u001b[0m: name 'dc' is not defined"
     ]
    }
   ],
   "source": [
    "# aber wir brauchen ein () am ende, weil es eine Methode ist\n",
    "dc.keys()"
   ]
  },
  {
   "cell_type": "code",
   "execution_count": 119,
   "id": "479b6f7b-2669-4124-9048-58dc6abb0394",
   "metadata": {},
   "outputs": [
    {
     "data": {
      "text/plain": [
       "dict_values([1, 2, 1])"
      ]
     },
     "execution_count": 119,
     "metadata": {},
     "output_type": "execute_result"
    }
   ],
   "source": [
    "# die Werte ansehen\n",
    "dc.values()"
   ]
  },
  {
   "cell_type": "code",
   "execution_count": 146,
   "id": "0e9ed6e7-64e3-4316-bb30-d356ca311acf",
   "metadata": {},
   "outputs": [
    {
     "data": {
      "text/plain": [
       "dict_items([('key_0', 20), ('key_1', 2)])"
      ]
     },
     "execution_count": 146,
     "metadata": {},
     "output_type": "execute_result"
    }
   ],
   "source": [
    "# und ide Key-Werte Paare\n",
    "dc.items()"
   ]
  },
  {
   "cell_type": "code",
   "execution_count": 141,
   "id": "b89b8b7f-c3dc-4848-97dc-3090c9c52fa6",
   "metadata": {},
   "outputs": [
    {
     "data": {
      "text/plain": [
       "1"
      ]
     },
     "execution_count": 141,
     "metadata": {},
     "output_type": "execute_result"
    }
   ],
   "source": [
    "# überprüfen eines spezifischen Dictionary-eintrags\n",
    "dc['key_0']"
   ]
  },
  {
   "cell_type": "code",
   "execution_count": 142,
   "id": "6a753fe1-e821-42d5-a9b8-03010a7ced36",
   "metadata": {},
   "outputs": [],
   "source": [
    "# ein neues Eintrags zum Wörterbuch hinfügen\n",
    "dc['key_0'] = 20"
   ]
  },
  {
   "cell_type": "code",
   "execution_count": 143,
   "id": "7dadd5e5-ce46-4ffc-b995-66e24c374371",
   "metadata": {},
   "outputs": [
    {
     "data": {
      "text/plain": [
       "{'key_0': 20, 'key_1': 2, 'key_2': 1}"
      ]
     },
     "execution_count": 143,
     "metadata": {},
     "output_type": "execute_result"
    }
   ],
   "source": [
    "# wie siehst aus jetzt?\n",
    "dc"
   ]
  },
  {
   "cell_type": "code",
   "execution_count": 144,
   "id": "2ce093be-07db-49d7-8131-a1d29ddbc356",
   "metadata": {},
   "outputs": [
    {
     "data": {
      "text/plain": [
       "{'key_0': 20, 'key_1': 2}"
      ]
     },
     "execution_count": 144,
     "metadata": {},
     "output_type": "execute_result"
    }
   ],
   "source": [
    "# ein Eintrag löschen\n",
    "del dc['key_2']\n",
    "dc"
   ]
  },
  {
   "cell_type": "code",
   "execution_count": 145,
   "id": "e0471fd0-3ce5-4085-8641-76f69d8f42e5",
   "metadata": {},
   "outputs": [
    {
     "ename": "KeyError",
     "evalue": "'key_2'",
     "output_type": "error",
     "traceback": [
      "\u001b[0;31m---------------------------------------------------------------------------\u001b[0m",
      "\u001b[0;31mKeyError\u001b[0m                                  Traceback (most recent call last)",
      "Cell \u001b[0;32mIn[145], line 1\u001b[0m\n\u001b[0;32m----> 1\u001b[0m \u001b[43mdc\u001b[49m\u001b[43m[\u001b[49m\u001b[38;5;124;43m'\u001b[39;49m\u001b[38;5;124;43mkey_2\u001b[39;49m\u001b[38;5;124;43m'\u001b[39;49m\u001b[43m]\u001b[49m\n",
      "\u001b[0;31mKeyError\u001b[0m: 'key_2'"
     ]
    }
   ],
   "source": [
    "dc['key_2']"
   ]
  },
  {
   "cell_type": "markdown",
   "id": "e4f54b1c-85f7-4a6e-b7f8-6cfb61761f21",
   "metadata": {},
   "source": [
    "<span style=\"font-size:1.3em;\">⚙️ <ins>```If``` Anweisung</ins></span>"
   ]
  },
  {
   "cell_type": "code",
   "execution_count": null,
   "id": "8b2c8e20-97f5-47e8-a041-97cef204a450",
   "metadata": {},
   "outputs": [],
   "source": []
  }
 ],
 "metadata": {
  "kernelspec": {
   "display_name": "Python 3 (ipykernel)",
   "language": "python",
   "name": "python3"
  },
  "language_info": {
   "codemirror_mode": {
    "name": "ipython",
    "version": 3
   },
   "file_extension": ".py",
   "mimetype": "text/x-python",
   "name": "python",
   "nbconvert_exporter": "python",
   "pygments_lexer": "ipython3",
   "version": "3.10.6"
  }
 },
 "nbformat": 4,
 "nbformat_minor": 5
}
