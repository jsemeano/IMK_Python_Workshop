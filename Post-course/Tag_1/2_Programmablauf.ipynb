{
 "cells": [
  {
   "cell_type": "markdown",
   "id": "5f6b94cc-6ce6-49ff-a209-8f3088a46ed8",
   "metadata": {},
   "source": [
    "# Programmablauf"
   ]
  },
  {
   "cell_type": "markdown",
   "id": "df13a5a3-724f-4abc-aea7-f359d3546d2d",
   "metadata": {},
   "source": [
    "Die Kontrollflusssteuerung in der Programmierung bezieht sich darauf, wie die Reihenfolge von Anweisungen in einem Programm gesteuert wird, basierend auf bestimmten Bedingungen oder Ereignissen. Dies ist wichtig, um Entscheidungen zu treffen und den Programmfluss je nach Situation zu verzweigen, um unterschiedliche Aktionen auszuführen."
   ]
  },
  {
   "cell_type": "markdown",
   "id": "a1565f52-c660-4c99-9805-88e331e7f1d4",
   "metadata": {},
   "source": [
    "## 1 - if"
   ]
  },
  {
   "cell_type": "code",
   "execution_count": 8,
   "id": "1954561a-be42-4112-9046-efdf4f659266",
   "metadata": {},
   "outputs": [
    {
     "data": {
      "text/plain": [
       "True"
      ]
     },
     "execution_count": 8,
     "metadata": {},
     "output_type": "execute_result"
    }
   ],
   "source": [
    "1 == 1"
   ]
  },
  {
   "cell_type": "code",
   "execution_count": 9,
   "id": "67f1ac8d-9ba9-40e4-b58d-923483a86f77",
   "metadata": {},
   "outputs": [
    {
     "name": "stdout",
     "output_type": "stream",
     "text": [
      "wahr\n"
     ]
    }
   ],
   "source": [
    "if 1 == 1:\n",
    "    print('wahr')"
   ]
  },
  {
   "cell_type": "code",
   "execution_count": 10,
   "id": "ae4c8698-567e-40ba-8f6f-ef753565582b",
   "metadata": {},
   "outputs": [],
   "source": [
    "a = 1"
   ]
  },
  {
   "cell_type": "code",
   "execution_count": 11,
   "id": "1eff5819-5e31-4a4c-a239-02840dd0bf9d",
   "metadata": {},
   "outputs": [
    {
     "name": "stdout",
     "output_type": "stream",
     "text": [
      "wahr\n"
     ]
    }
   ],
   "source": [
    "if 1 == a:\n",
    "    print('wahr')\n",
    "else:\n",
    "    print('falsch')"
   ]
  },
  {
   "cell_type": "code",
   "execution_count": 12,
   "id": "6d1353c2-727b-4936-82c9-08ffa86b87cd",
   "metadata": {},
   "outputs": [],
   "source": [
    "a = 'one'"
   ]
  },
  {
   "cell_type": "code",
   "execution_count": 13,
   "id": "c30fa2de-5be2-4205-b65c-f35ba01448af",
   "metadata": {},
   "outputs": [
    {
     "name": "stdout",
     "output_type": "stream",
     "text": [
      "falsch\n"
     ]
    }
   ],
   "source": [
    "if 1 == a:\n",
    "    print('wahr')\n",
    "else:\n",
    "    print('falsch')"
   ]
  },
  {
   "cell_type": "code",
   "execution_count": 14,
   "id": "46c9a053-0107-4185-b6f6-d20721741ef8",
   "metadata": {},
   "outputs": [
    {
     "name": "stdout",
     "output_type": "stream",
     "text": [
      "wahr\n"
     ]
    }
   ],
   "source": [
    "if 1 == a:\n",
    "    print('wahr')\n",
    "elif 'one' == a:\n",
    "    print('wahr')   \n",
    "else:\n",
    "    print('falsch')\n",
    "    "
   ]
  },
  {
   "cell_type": "code",
   "execution_count": 17,
   "id": "58bcde44-6dd9-4bbc-846f-5c54280e16f6",
   "metadata": {},
   "outputs": [],
   "source": [
    "num = 30"
   ]
  },
  {
   "cell_type": "code",
   "execution_count": 18,
   "id": "e80823ee-c582-4365-8c01-d1363af8a5a0",
   "metadata": {},
   "outputs": [
    {
     "name": "stdout",
     "output_type": "stream",
     "text": [
      "In Bereich\n"
     ]
    }
   ],
   "source": [
    "if (num >= 10) and (num <= 40):\n",
    "    print('Im Bereich')\n",
    "else:\n",
    "    print('Nicht im Bereich')"
   ]
  },
  {
   "cell_type": "code",
   "execution_count": 21,
   "id": "0a4e2b2e-280d-4ea5-9480-ad4396edd83d",
   "metadata": {},
   "outputs": [],
   "source": [
    "num = 41"
   ]
  },
  {
   "cell_type": "code",
   "execution_count": 22,
   "id": "be3d06e2-af8e-42cd-ab3c-9c398fe343b1",
   "metadata": {},
   "outputs": [
    {
     "name": "stdout",
     "output_type": "stream",
     "text": [
      "Nicht im Bereich\n"
     ]
    }
   ],
   "source": [
    "if (num >= 10) and (num <= 40):\n",
    "    print('Im Bereich')\n",
    "else:\n",
    "    print('Nicht im Bereich')"
   ]
  },
  {
   "cell_type": "markdown",
   "id": "da6359a7-0b42-4efb-9398-d9c8dc2ae239",
   "metadata": {},
   "source": [
    "## 2 - For loop"
   ]
  },
  {
   "cell_type": "code",
   "execution_count": 23,
   "id": "d6923b7c-8fef-489f-8553-5b56de8266ed",
   "metadata": {},
   "outputs": [],
   "source": [
    "lst = [1,2,3,4,5,6]"
   ]
  },
  {
   "cell_type": "code",
   "execution_count": 25,
   "id": "8a1c5d3f-0159-4d30-9954-9c604f357f26",
   "metadata": {},
   "outputs": [
    {
     "name": "stdout",
     "output_type": "stream",
     "text": [
      "1\n",
      "2\n",
      "3\n",
      "4\n",
      "5\n",
      "6\n"
     ]
    }
   ],
   "source": [
    "for ele in lst:\n",
    "    print(ele)"
   ]
  },
  {
   "cell_type": "code",
   "execution_count": 71,
   "id": "f07ea3b4-f1cd-490c-bba9-0306ef8cb792",
   "metadata": {},
   "outputs": [
    {
     "name": "stdout",
     "output_type": "stream",
     "text": [
      "0 : 1\n",
      "1 : 2\n",
      "2 : 3\n",
      "3 : 4\n",
      "4 : 5\n",
      "5 : 6\n"
     ]
    }
   ],
   "source": [
    "for ind, ele in enumerate(lst):\n",
    "    print(f\"{ind} : {ele}\")\n",
    "    "
   ]
  },
  {
   "cell_type": "code",
   "execution_count": 26,
   "id": "5aa02414-1c59-4a26-9073-3fcc4517e6a3",
   "metadata": {},
   "outputs": [
    {
     "name": "stdout",
     "output_type": "stream",
     "text": [
      "1\n",
      "2\n",
      "3\n",
      "4\n",
      "5\n",
      "6\n"
     ]
    }
   ],
   "source": [
    "for ele in range(1,7):\n",
    "    print(ele)"
   ]
  },
  {
   "cell_type": "code",
   "execution_count": 33,
   "id": "8f4b37ce-9450-406c-9319-05568b65ab93",
   "metadata": {},
   "outputs": [],
   "source": [
    "dct = {\n",
    "    1 : 40,\n",
    "    2 : 20,\n",
    "    3 : 200,\n",
    "    4 : 8,\n",
    "    5 : 30,\n",
    "    6 : 1,\n",
    "}"
   ]
  },
  {
   "cell_type": "code",
   "execution_count": 58,
   "id": "5a64cca3-f6df-45b4-9fcb-93f8d5bfacff",
   "metadata": {},
   "outputs": [
    {
     "name": "stdout",
     "output_type": "stream",
     "text": [
      "Der Wert von 1 ist im Bereich\n",
      "Der Wert von 2 ist im Bereich\n",
      "Der Wert von 2 ist im Bereich aber kleiner als 30\n",
      "Der Wert von 4 ist nicht im Bereich\n"
     ]
    }
   ],
   "source": [
    "for key in dct:\n",
    "    if key == 3:\n",
    "        continue\n",
    "        \n",
    "    if (dct[key] >= 10) and (dct[key] <= 40):\n",
    "        print(f'Der Wert von {key} ist im Bereich')\n",
    "        \n",
    "        if dct[key] < 30:\n",
    "            print(f'Der Wert von {key} ist im Bereich aber kleiner als 30')\n",
    "            \n",
    "    else:\n",
    "        print(f'Der Wert von {key} ist nicht im Bereich')\n",
    "        \n",
    "    if key == 4:\n",
    "        break\n"
   ]
  },
  {
   "cell_type": "code",
   "execution_count": 69,
   "id": "92fc39b2-a8a8-4ed4-b459-23450cf4bc33",
   "metadata": {},
   "outputs": [
    {
     "name": "stdout",
     "output_type": "stream",
     "text": [
      "1\n",
      "2\n",
      "3\n",
      "4\n",
      "5\n",
      "6\n"
     ]
    }
   ],
   "source": [
    "[print(n) for n in lst];"
   ]
  },
  {
   "cell_type": "code",
   "execution_count": 67,
   "id": "2f426795-6da8-4b4e-b771-2618d2165b7c",
   "metadata": {},
   "outputs": [
    {
     "data": {
      "text/plain": [
       "[0, 2, 4, 6, 8, 10, 12, 14, 16, 18, 20, 22, 24, 26, 28, 30, 32, 34, 36, 38]"
      ]
     },
     "execution_count": 67,
     "metadata": {},
     "output_type": "execute_result"
    }
   ],
   "source": [
    "[2*i for i in range(20)]"
   ]
  },
  {
   "cell_type": "markdown",
   "id": "58a88514-1597-4a60-83f0-a9f8137846a1",
   "metadata": {},
   "source": [
    "Schnell Kommentar: while loop"
   ]
  },
  {
   "cell_type": "code",
   "execution_count": 74,
   "id": "f6424911-8c84-4af6-bb2d-7b565a4f3b30",
   "metadata": {},
   "outputs": [
    {
     "name": "stdout",
     "output_type": "stream",
     "text": [
      "0\n",
      "1\n",
      "2\n",
      "3\n",
      "4\n",
      "5\n"
     ]
    }
   ],
   "source": [
    "\n",
    "ii = 0\n",
    "\n",
    "while ii <= 5:\n",
    "    print(ii)\n",
    "    ii += 1 "
   ]
  },
  {
   "cell_type": "markdown",
   "id": "c5b930bc-b132-4282-a89e-a121d2d2adb6",
   "metadata": {},
   "source": [
    "## 3 - Nutzerdefinierte Funktionen "
   ]
  },
  {
   "cell_type": "markdown",
   "id": "dcacdabe-2b4e-463e-8d2b-295962d1e3e8",
   "metadata": {},
   "source": [
    "Wenn wir dieselbe Reihe von Befehlen wiederholt ausführen, wollen wir sie nicht jedes Mal neu schreiben.<br> Stattdessen können wir eine Funktion definieren, die diese Befehle enthält, und sie jedes Mal aufrufen, wenn wir sie brauchen."
   ]
  },
  {
   "cell_type": "code",
   "execution_count": 107,
   "id": "7d00f894-de27-4485-ac2d-24320876b515",
   "metadata": {},
   "outputs": [],
   "source": [
    "def div(a,b):\n",
    "    a/b"
   ]
  },
  {
   "cell_type": "code",
   "execution_count": 108,
   "id": "a7c36ce3-36e0-4269-8b45-7ebc9172147a",
   "metadata": {},
   "outputs": [],
   "source": [
    "a = div(10,3)\n",
    "a"
   ]
  },
  {
   "cell_type": "code",
   "execution_count": 109,
   "id": "3b1c3be0-3719-4678-8498-86090ae8586a",
   "metadata": {},
   "outputs": [],
   "source": [
    "def div(a,b):\n",
    "    return a/b"
   ]
  },
  {
   "cell_type": "code",
   "execution_count": 110,
   "id": "72b6a21f-e8c8-46d3-8587-7583f922e4f2",
   "metadata": {},
   "outputs": [
    {
     "data": {
      "text/plain": [
       "3.3333333333333335"
      ]
     },
     "execution_count": 110,
     "metadata": {},
     "output_type": "execute_result"
    }
   ],
   "source": [
    "a = div(10,3)\n",
    "a"
   ]
  },
  {
   "cell_type": "markdown",
   "id": "2ee7b546-6215-4103-81dd-2a8cf67e232e",
   "metadata": {},
   "source": [
    "Der Nahme der Funktion is ```div```<br>\n",
    "Sie hat 2 Parameter: ```a``` und ```b```<br>\n",
    "Sie gibt ein float zurück"
   ]
  },
  {
   "cell_type": "code",
   "execution_count": 120,
   "id": "5e66aad0-7b6e-4a4f-8057-41afd09b2b82",
   "metadata": {},
   "outputs": [],
   "source": [
    "def key_wert(dct):\n",
    "    for key in dct:\n",
    "        if key == 3:\n",
    "            continue\n",
    "            \n",
    "        if (dct[key] >= 10) and (dct[key] <= 40):\n",
    "            print(f'Der Wert von {key} ist im Bereich')\n",
    "            \n",
    "            if dct[key] < 30:\n",
    "                print(f'Der Wert von {key} ist im Bereich aber kleiner als 30')\n",
    "                \n",
    "        else:\n",
    "            print(f'Der Wert von {key} ist nicht im Bereich')\n",
    "            \n",
    "        if key == 4:\n",
    "            break"
   ]
  },
  {
   "cell_type": "code",
   "execution_count": 121,
   "id": "e7b5433f-0fd9-4e56-a251-ac3ca30678e4",
   "metadata": {},
   "outputs": [
    {
     "name": "stdout",
     "output_type": "stream",
     "text": [
      "Der Wert von 1 ist im Bereich\n",
      "Der Wert von 2 ist im Bereich\n",
      "Der Wert von 2 ist im Bereich aber kleiner als 30\n",
      "Der Wert von 4 ist nicht im Bereich\n"
     ]
    }
   ],
   "source": [
    "key_wert(dct)"
   ]
  },
  {
   "cell_type": "markdown",
   "id": "598af009-a0fd-4e63-9b93-fde025214d34",
   "metadata": {},
   "source": [
    "Parameter können **positional** oder **keyword** sein.<br>\n",
    "- Alle positional Parameter, mussen vor den keyword definiert werden,\n",
    "- Falls ein <ins>positional</ins> Parameter fehlt, die Funktion funktioniert nicht\n",
    "- <ins>Keyword</ins> Parameter haben Standardwerte (in der Funktion definiert). Die Funktion funktioniert selbst wenn der Parameter fehlt\n",
    "\n",
    "\n"
   ]
  },
  {
   "cell_type": "code",
   "execution_count": 117,
   "id": "b2c1eaca-0e24-40b6-a5a2-571bb45a2791",
   "metadata": {},
   "outputs": [],
   "source": [
    "def full_name(first_name, last_name, capitalize=False):\n",
    "    if capitalize:\n",
    "        return f\"{first_name.capitalize()} {last_name.capitalize()}\"\n",
    "    else:\n",
    "        return f\"{first_name} {last_name}\""
   ]
  },
  {
   "cell_type": "code",
   "execution_count": 122,
   "id": "c93c3a8c-8d86-4f03-be92-8bb1385d579a",
   "metadata": {},
   "outputs": [
    {
     "ename": "TypeError",
     "evalue": "full_name() missing 1 required positional argument: 'last_name'",
     "output_type": "error",
     "traceback": [
      "\u001b[0;31m---------------------------------------------------------------------------\u001b[0m",
      "\u001b[0;31mTypeError\u001b[0m                                 Traceback (most recent call last)",
      "Cell \u001b[0;32mIn[122], line 1\u001b[0m\n\u001b[0;32m----> 1\u001b[0m \u001b[43mfull_name\u001b[49m\u001b[43m(\u001b[49m\u001b[38;5;124;43m\"\u001b[39;49m\u001b[38;5;124;43mjoao\u001b[39;49m\u001b[38;5;124;43m\"\u001b[39;49m\u001b[43m)\u001b[49m\n",
      "\u001b[0;31mTypeError\u001b[0m: full_name() missing 1 required positional argument: 'last_name'"
     ]
    }
   ],
   "source": [
    "full_name(\"joao\")"
   ]
  },
  {
   "cell_type": "code",
   "execution_count": 118,
   "id": "fdc47bdd-7dcf-4b32-acaf-328fe77509f3",
   "metadata": {},
   "outputs": [
    {
     "data": {
      "text/plain": [
       "'joao semeano'"
      ]
     },
     "execution_count": 118,
     "metadata": {},
     "output_type": "execute_result"
    }
   ],
   "source": [
    "full_name(\"joao\", \"semeano\")"
   ]
  },
  {
   "cell_type": "code",
   "execution_count": 119,
   "id": "e3228543-0f83-4353-b117-c0a6c3274bb9",
   "metadata": {},
   "outputs": [
    {
     "data": {
      "text/plain": [
       "'Joao Semeano'"
      ]
     },
     "execution_count": 119,
     "metadata": {},
     "output_type": "execute_result"
    }
   ],
   "source": [
    "full_name(\"joao\", \"semeano\",capitalize=True)"
   ]
  },
  {
   "cell_type": "markdown",
   "id": "d48b6a95-5c7e-44d6-b178-405518c4b235",
   "metadata": {},
   "source": [
    "Argumente sind spezifische Werte, die die Parameter annehmen, wenn die Funktion aufgerufen wird.\n",
    "- ```first_name``` ist ein Parameter\n",
    "- \"joao\" ist ein Argument\n"
   ]
  },
  {
   "cell_type": "code",
   "execution_count": null,
   "id": "b76aaf5d-e11c-4742-8eb6-c0000449b33c",
   "metadata": {},
   "outputs": [],
   "source": []
  },
  {
   "cell_type": "code",
   "execution_count": null,
   "id": "4cd7456f-2c5b-4e2e-b069-2f8b5a4a439f",
   "metadata": {},
   "outputs": [],
   "source": []
  },
  {
   "cell_type": "markdown",
   "id": "7ce64a1d-f5fc-4518-98fa-b695f917afcb",
   "metadata": {},
   "source": [
    "Schell Tip: Funktion Dokumentation<br>\n",
    "Es ist eine gute Idee zu dokumentieren, wie die Inputs und Outputs heissen, sowie welche Datentyp sie sind"
   ]
  },
  {
   "cell_type": "code",
   "execution_count": 113,
   "id": "32fe2fa8-4a79-474f-b321-34d2e7d600f9",
   "metadata": {},
   "outputs": [],
   "source": [
    "def div(a : float,\n",
    "        b : float) -> float:\n",
    "    \"\"\"\n",
    "    Teilung von 2 Nummer\n",
    "    \"\"\"\n",
    "    return a/b"
   ]
  },
  {
   "cell_type": "code",
   "execution_count": 115,
   "id": "631b8fac-9841-4fd1-898f-2fdeede283c4",
   "metadata": {},
   "outputs": [
    {
     "name": "stdout",
     "output_type": "stream",
     "text": [
      "Help on function div in module __main__:\n",
      "\n",
      "div(a: float, b: float) -> float\n",
      "    Teilung von 2 Nummer\n",
      "\n"
     ]
    }
   ],
   "source": [
    "help(div)"
   ]
  },
  {
   "cell_type": "markdown",
   "id": "b626bc03-eaee-4891-bb04-d3c12703f5a5",
   "metadata": {},
   "source": [
    "<span style=\"font-size:1.3em;\">⚙️ <ins>Funktion Aufgabe</ins></span>\n"
   ]
  },
  {
   "cell_type": "code",
   "execution_count": null,
   "id": "d9d8aa9c-7aaf-41eb-a454-daa21a0c1d3f",
   "metadata": {},
   "outputs": [],
   "source": []
  },
  {
   "cell_type": "markdown",
   "id": "cfbe5b7b-25eb-44d2-86d5-855e1a3f8cbd",
   "metadata": {},
   "source": [
    "## 4 - Ausnahmebehandlung"
   ]
  },
  {
   "cell_type": "markdown",
   "id": "7f8e84df-a11e-4260-bb20-cf160cb31a2e",
   "metadata": {},
   "source": [
    "[Fehler](https://docs.python.org/3/tutorial/errors.html)"
   ]
  },
  {
   "cell_type": "code",
   "execution_count": 96,
   "id": "a492cb4f-247b-4ad0-9432-edbe5f11e7a5",
   "metadata": {},
   "outputs": [],
   "source": [
    "def div(a,b):\n",
    "    try:\n",
    "        _div = a/b\n",
    "        return _div\n",
    "    except ZeroDivisionError:\n",
    "        print(\"Kann nicht durch Null teilen\")\n",
    "\n"
   ]
  },
  {
   "cell_type": "code",
   "execution_count": null,
   "id": "bebbc8d4-3913-476d-a686-14c87beab37e",
   "metadata": {},
   "outputs": [],
   "source": []
  },
  {
   "cell_type": "code",
   "execution_count": 99,
   "id": "5eb5855f-c2c7-44ef-9e9a-e417c227a531",
   "metadata": {},
   "outputs": [
    {
     "data": {
      "text/plain": [
       "3.3333333333333335"
      ]
     },
     "execution_count": 99,
     "metadata": {},
     "output_type": "execute_result"
    }
   ],
   "source": [
    "a = div(10,3)\n",
    "a"
   ]
  },
  {
   "cell_type": "code",
   "execution_count": null,
   "id": "94fba5a0-1dc3-4980-b1f6-1e2ef5c27d6c",
   "metadata": {},
   "outputs": [],
   "source": []
  },
  {
   "cell_type": "code",
   "execution_count": null,
   "id": "c82c15d1-77b8-457c-85d4-bbde3e009585",
   "metadata": {},
   "outputs": [],
   "source": []
  },
  {
   "cell_type": "code",
   "execution_count": null,
   "id": "2b7104b1-8f6f-49b8-8843-541edd3eedcc",
   "metadata": {},
   "outputs": [],
   "source": [
    "try:\n",
    "    num = int(input(\"Enter a number: \"))\n",
    "except ValueError:\n",
    "    print(\"Please enter a valid integer.\")\n",
    "else:\n",
    "    result = 10 / num\n",
    "    print(\"Result:\", result)"
   ]
  },
  {
   "cell_type": "code",
   "execution_count": null,
   "id": "5e5f09a3-f84c-4fac-b66e-dbc7e6011abd",
   "metadata": {},
   "outputs": [],
   "source": []
  },
  {
   "cell_type": "code",
   "execution_count": 89,
   "id": "8bd23476-78cb-412e-9f65-dd868b1b5a27",
   "metadata": {},
   "outputs": [
    {
     "name": "stdin",
     "output_type": "stream",
     "text": [
      "Enter a number:  2.5\n"
     ]
    },
    {
     "name": "stdout",
     "output_type": "stream",
     "text": [
      "Please enter a valid integer.\n"
     ]
    }
   ],
   "source": [
    "try:\n",
    "    num = int(input(\"Enter a number: \"))\n",
    "    result = 10 / num\n",
    "    print(\"Result:\", result)\n",
    "except ValueError:\n",
    "    print(\"Please enter a valid integer.\")\n",
    "except ZeroDivisionError:\n",
    "    print(\"Division by zero is not allowed.\")"
   ]
  },
  {
   "cell_type": "code",
   "execution_count": null,
   "id": "34994e06-63a6-42ff-b253-8305592bc5d1",
   "metadata": {},
   "outputs": [],
   "source": [
    "try:\n",
    "    file = open(\"example.txt\", \"r\")\n",
    "    # Perform file operations\n",
    "except FileNotFoundError:\n",
    "    print(\"File not found.\")\n",
    "finally:\n",
    "    file.close() "
   ]
  },
  {
   "cell_type": "code",
   "execution_count": null,
   "id": "7177c59a-0266-42ac-bd55-08d52cb22aae",
   "metadata": {},
   "outputs": [],
   "source": []
  },
  {
   "cell_type": "code",
   "execution_count": null,
   "id": "a132379a-f0c8-41f0-aa37-ee59890ebf53",
   "metadata": {},
   "outputs": [],
   "source": []
  },
  {
   "cell_type": "markdown",
   "id": "1b6fa73d-f26a-4d58-9528-c6dc887d99bf",
   "metadata": {},
   "source": [
    "[Eingebaute Ausnahmen](https://docs.python.org/3/library/exceptions.html)"
   ]
  },
  {
   "cell_type": "code",
   "execution_count": 126,
   "id": "b69cd89c-730e-4b0a-8363-e4b5476f5652",
   "metadata": {},
   "outputs": [
    {
     "ename": "TypeError",
     "evalue": "can only concatenate str (not \"int\") to str",
     "output_type": "error",
     "traceback": [
      "\u001b[0;31m---------------------------------------------------------------------------\u001b[0m",
      "\u001b[0;31mTypeError\u001b[0m                                 Traceback (most recent call last)",
      "Cell \u001b[0;32mIn[126], line 1\u001b[0m\n\u001b[0;32m----> 1\u001b[0m result \u001b[38;5;241m=\u001b[39m \u001b[38;5;124;43m\"\u001b[39;49m\u001b[38;5;124;43mhello\u001b[39;49m\u001b[38;5;124;43m\"\u001b[39;49m\u001b[43m \u001b[49m\u001b[38;5;241;43m+\u001b[39;49m\u001b[43m \u001b[49m\u001b[38;5;241;43m42\u001b[39;49m\n",
      "\u001b[0;31mTypeError\u001b[0m: can only concatenate str (not \"int\") to str"
     ]
    }
   ],
   "source": [
    "result = \"hello\" + 42"
   ]
  },
  {
   "cell_type": "code",
   "execution_count": 125,
   "id": "5cddec24-1052-41bd-88b0-5cd2b8b4a109",
   "metadata": {},
   "outputs": [
    {
     "name": "stdout",
     "output_type": "stream",
     "text": [
      "TypeError: can only concatenate str (not \"int\") to str\n"
     ]
    }
   ],
   "source": [
    "try:\n",
    "    result = \"hello\" + 42  # Attempting to concatenate string and integer\n",
    "except TypeError as e:\n",
    "    print(\"TypeError:\", e)"
   ]
  },
  {
   "cell_type": "code",
   "execution_count": null,
   "id": "93bfebda-946a-4700-a4c1-166c3d3b2af8",
   "metadata": {},
   "outputs": [],
   "source": []
  },
  {
   "cell_type": "code",
   "execution_count": 124,
   "id": "26523f13-ad60-4c99-b488-fef8d3680ff9",
   "metadata": {},
   "outputs": [
    {
     "name": "stdin",
     "output_type": "stream",
     "text": [
      "Enter an integer:  -3\n"
     ]
    },
    {
     "name": "stdout",
     "output_type": "stream",
     "text": [
      "ValueError: Number must be positive.\n"
     ]
    }
   ],
   "source": [
    "try:\n",
    "    num = int(input(\"Enter an integer: \"))\n",
    "    if num < 0:\n",
    "        raise ValueError(\"Number must be positive.\")\n",
    "except ValueError as e:\n",
    "    print(\"ValueError:\", e)\n"
   ]
  },
  {
   "cell_type": "code",
   "execution_count": null,
   "id": "63e1db84-bb54-4a0a-ab1e-2e771ab34ecc",
   "metadata": {},
   "outputs": [],
   "source": []
  },
  {
   "cell_type": "code",
   "execution_count": null,
   "id": "ec3b9fc8-42d4-4d11-ad5f-dddacc97894f",
   "metadata": {},
   "outputs": [],
   "source": [
    "try:\n",
    "    my_list = [1, 2, 3]\n",
    "    print(my_list[3])  # Accessing index out of range\n",
    "except IndexError as e:\n",
    "    print(\"IndexError:\", e)"
   ]
  },
  {
   "cell_type": "code",
   "execution_count": null,
   "id": "28ae383d-3999-4725-958c-dd1cc9dd2403",
   "metadata": {},
   "outputs": [],
   "source": []
  },
  {
   "cell_type": "code",
   "execution_count": null,
   "id": "91361fb5-cdb5-46bb-851e-af43e64a2bef",
   "metadata": {},
   "outputs": [],
   "source": [
    "try:\n",
    "    with open(\"nonexistent_file.txt\", \"r\") as file:\n",
    "        contents = file.read()\n",
    "except FileNotFoundError as e:\n",
    "    print(\"FileNotFoundError:\", e)"
   ]
  },
  {
   "cell_type": "code",
   "execution_count": null,
   "id": "9ce15c1b-4bc4-489e-bb65-a268c66fcbe9",
   "metadata": {},
   "outputs": [],
   "source": []
  }
 ],
 "metadata": {
  "kernelspec": {
   "display_name": "Python 3 (ipykernel)",
   "language": "python",
   "name": "python3"
  },
  "language_info": {
   "codemirror_mode": {
    "name": "ipython",
    "version": 3
   },
   "file_extension": ".py",
   "mimetype": "text/x-python",
   "name": "python",
   "nbconvert_exporter": "python",
   "pygments_lexer": "ipython3",
   "version": "3.10.6"
  }
 },
 "nbformat": 4,
 "nbformat_minor": 5
}
