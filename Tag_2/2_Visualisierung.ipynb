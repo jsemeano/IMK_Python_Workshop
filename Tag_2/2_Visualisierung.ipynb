{
 "cells": [
  {
   "cell_type": "markdown",
   "id": "75e6e1ac-75f6-408c-ac78-0478e6e8c180",
   "metadata": {},
   "source": [
    "# Daten Visualisieung"
   ]
  },
  {
   "cell_type": "markdown",
   "id": "56bdda46-fd8f-425f-a5a9-9708b01cc773",
   "metadata": {},
   "source": [
    "Datenvisualisierung ist ein wichtiger Bestandteil der Datenanalyse, der es ermöglicht, Muster, Trends und Beziehungen in den Daten visuell darzustellen. In Python gibt es verschiedene Bibliotheken, die zur Visualisierung von Daten verwendet werden können, darunter Pandas, Matplotlib und Seaborn.\n",
    "\n",
    "- **Pandas**: bieter einfachen Visualisierung von Daten,\n",
    "\n",
    "- **Matplotlib**: eine umfangreiche Bibliothek zur Erstellung von Grafiken und Diagrammen in Python. Es bietet eine Vielzahl von Funktionen zur Anpassung von Grafiken und zur Erstellung verschiedener Arten von Plots, einschließlich Linienplots, Histogrammen, Scatterplots und Balkendiagrammen.\n",
    "\n",
    "- **Seaborn**: eine weitere Bibliothek zur Datenvisualisierung, die auf Matplotlib aufbaut und die Erstellung ansprechender und komplexerer Diagramme vereinfacht. Es bietet eine höhere Abstraktionsebene und ermöglicht die Erstellung von Diagrammen mit wenigen Zeilen Code.\n"
   ]
  },
  {
   "cell_type": "markdown",
   "id": "fbf223d6-beb2-4a38-84b4-f01cd0dfd812",
   "metadata": {},
   "source": [
    "## 1 - Pandas"
   ]
  },
  {
   "cell_type": "markdown",
   "id": "b28a76ae-5036-4b43-b1f5-d3d5087336fc",
   "metadata": {},
   "source": [
    "[<img src=\"bilder/pandas.png\"  width=\"400\" height=\"300\"  title=\"Pandas Visualisierung\">](https://pandas.pydata.org/docs/user_guide/visualization.html)\n"
   ]
  },
  {
   "cell_type": "code",
   "execution_count": null,
   "id": "da4e56aa-ef54-4cb1-8da5-917156f36bf8",
   "metadata": {},
   "outputs": [],
   "source": [
    "# wir wollen unseren Pickle jetzt lesen\n",
    "\n"
   ]
  },
  {
   "cell_type": "code",
   "execution_count": null,
   "id": "69667c62-7a7d-4329-88d2-bc645e53ba54",
   "metadata": {},
   "outputs": [],
   "source": [
    "# die \"head\" Methode erstellt ein neuen df\n",
    "# die \"T\" transponiert\n"
   ]
  },
  {
   "cell_type": "code",
   "execution_count": null,
   "id": "a0de0671-758d-436c-82cc-1db1d8a0a6d7",
   "metadata": {},
   "outputs": [],
   "source": [
    "# Linie Abbildung von ein Teil unseres dfs\n"
   ]
  },
  {
   "cell_type": "code",
   "execution_count": null,
   "id": "018b2f6e-0f62-4bbe-bc2a-58bc30b56105",
   "metadata": {},
   "outputs": [],
   "source": [
    "# Histogramm\n"
   ]
  },
  {
   "cell_type": "code",
   "execution_count": null,
   "id": "f90ff81b-aae1-4475-bf72-69885fb07ac9",
   "metadata": {},
   "outputs": [],
   "source": [
    "df.groupby('gender')[['is_urban', \t'employed_last_year']].sum()"
   ]
  },
  {
   "cell_type": "code",
   "execution_count": null,
   "id": "b49b8343-a12b-4233-91ac-1870c9fde905",
   "metadata": {},
   "outputs": [],
   "source": [
    "# Abbildungen von Gruppen\n",
    "\n"
   ]
  },
  {
   "cell_type": "markdown",
   "id": "5dd141a6-7d1f-4746-a300-5d7f93a0f211",
   "metadata": {},
   "source": [
    "## 2 - Matplotlib"
   ]
  },
  {
   "cell_type": "markdown",
   "id": "d69d5a46-7731-482a-88d4-4cb60763d8be",
   "metadata": {},
   "source": [
    "[<img src=\"bilder/matplot_title_logo.png\"  width=\"400\" height=\"300\"  title=\"Matplotlib\">](https://matplotlib.org/)"
   ]
  },
  {
   "cell_type": "markdown",
   "id": "5873892b-3d92-4832-8c90-f826ebbeecb9",
   "metadata": {},
   "source": [
    "Pandas eignet sich gut für schnelle und standardisierte Visualisierungen. Sobald wir jedoch komplexere Grafiken benötigen, sind wir mit Matplotlib, dem Paket, das auch von Pandas verwendet wird, besser bedient. Mit Matplotlib sind wir wesentlich flexibler und können Grafiken leicht anpassen, Abbildungen nebeneinander stellen, Anmerkungen hinzufügen usw...\n",
    "<br>\n",
    "<br>\n",
    "Der beste Weg, eine Abbildung zu erstellen, ist die [Matplotlib-Galerie](https://matplotlib.org/stable/gallery/index.html). Sie ist eine Sammlung verschiedener Diagrammtypen einschließlich des Quellcodes"
   ]
  },
  {
   "cell_type": "code",
   "execution_count": null,
   "id": "94b99e7d-a15f-4e5e-913e-b67deddb53ec",
   "metadata": {},
   "outputs": [],
   "source": [
    "\n"
   ]
  },
  {
   "cell_type": "code",
   "execution_count": null,
   "id": "f8ca712b-b17b-4141-85a2-a0c9128c284d",
   "metadata": {},
   "outputs": [],
   "source": [
    "# Eine einfache Linien Abbildung\n",
    "\n",
    "\n",
    "# Eine angepasste Linien Abbildung\n"
   ]
  },
  {
   "cell_type": "code",
   "execution_count": null,
   "id": "5977c703-fcd2-4057-8539-fc70a24c4bc9",
   "metadata": {},
   "outputs": [],
   "source": [
    "# Die Anpassung kann beliebig komplizierter werden...\n",
    "\n"
   ]
  },
  {
   "cell_type": "markdown",
   "id": "d9d8fe20-76bc-45c2-8420-f704749ad6d0",
   "metadata": {},
   "source": [
    "<img src=\"bilder/einfach bar.png\"  width=\"400\" height=\"300\"  title=\"Matplotlib Einfach Bar\">"
   ]
  },
  {
   "cell_type": "markdown",
   "id": "2275e73d-147f-418e-9500-6845c3651347",
   "metadata": {},
   "source": [
    "Es ist häufig nützlich, Diagramme **nebeneinander darzustellen**. Der beste Weg, dies zu tun, ist mit der Methode ```plt.subplots``` ([beispiel](https://matplotlib.org/stable/gallery/subplots_axes_and_figures/subplots_demo.html)). Sie gibt einen Plotbereich (```fig```) sowie ein Achsenobjekt (```axs```) mit den angegebenen Abmessungen zurück. Die Achsenabmessungen entsprechen der Platzierung der Unterdarstellungen.\n",
    "\n",
    "Hinweis: In Matplotlib gibt es eine knifflige Namenskonvention. **Axes** bezieht sich auf ein Unterdarstellungsobjekt. **Axis** bezieht sich auf die Achse eines Diagramms."
   ]
  },
  {
   "cell_type": "code",
   "execution_count": null,
   "id": "6adac3cb-14b0-43d9-9731-93601b76a139",
   "metadata": {},
   "outputs": [],
   "source": [
    "fig, axs = plt.subplots(1,2,figsize=(10,5))\n",
    "\n",
    "axs[0].plot(df['age'].loc[:60], \n",
    "         color=\"r\", # fabre\n",
    "         linestyle=':', # linientyp\n",
    "         marker='s', # zeichentyp\n",
    "         linewidth=3 # linienbreite\n",
    "           );\n",
    "\n",
    "axs[0].set_title('Age of the first 60 people');\n",
    "axs[0].set_ylabel('years');\n",
    "\n",
    "\n",
    "df.groupby('gender')[['is_urban', \t'employed_last_year']].sum().plot.bar(title = 'number of urban and employed for each gender',ax=axs[1]); \n",
    "axs[1].set_ylabel('number of people');"
   ]
  },
  {
   "cell_type": "markdown",
   "id": "85c06e09-7233-4583-b93f-2d9986e1fac8",
   "metadata": {},
   "source": [
    "Matplotlib bietet eine Reihe von [vordefinierten Stilen](https://matplotlib.org/stable/gallery/style_sheets/style_sheets_reference.html), die uns helfen, manuelle Verschönerungen zu sparen. Sie können die vollständige Liste der verfügbaren Stile mit dem folgenden Befehl anzeigen:"
   ]
  },
  {
   "cell_type": "code",
   "execution_count": null,
   "id": "d11295b9-8085-443b-acc6-bc190052a995",
   "metadata": {},
   "outputs": [],
   "source": [
    "print(plt.style.available)"
   ]
  },
  {
   "cell_type": "markdown",
   "id": "42f3f0e3-daf5-4675-a011-dceb632f48a5",
   "metadata": {},
   "source": [
    "<img src=\"bilder/kompliziert bar.png\"  width=\"400\" height=\"300\"  title=\"Matplotlib Kompliziert Bar\">"
   ]
  },
  {
   "cell_type": "markdown",
   "id": "597fa417-2e26-4b56-bf60-ff23784da0b3",
   "metadata": {},
   "source": [
    "<span style=\"font-size:1.3em;\">⚙️ <ins>Matplotlib</ins></span>\n",
    "\n",
    "Versuch die Obere Abbildung zu kriegen. Tips:\n",
    "- das ```axs``` Objekt wird eine Matrix 2x2 sein, d.h. es gibt  ```axs[0][0]```,  ```axs[0][1]```,  ```axs[1][0]``` und  ```axs[1][1]```\n",
    "- ein [Beispiel](https://www.geeksforgeeks.org/style-plots-using-matplotlib/) für die Nutzung von plt.style.context. Damit es jeder Diagram zugreift, muss man die Variante mit ```with``` nutzen (Beispiel 4)\n",
    "- das Kommentar und Pfeile kriegt man mit der [annotate](https://matplotlib.org/stable/api/_as_gen/matplotlib.pyplot.annotate.html) Methode"
   ]
  },
  {
   "cell_type": "code",
   "execution_count": null,
   "id": "b17d845f-dc96-4d35-9ae2-d1656a18cf93",
   "metadata": {},
   "outputs": [],
   "source": []
  },
  {
   "cell_type": "markdown",
   "id": "7c22aa13-9b67-4110-96d0-10478cdf3012",
   "metadata": {},
   "source": [
    "## 3 - Seaborn"
   ]
  },
  {
   "cell_type": "markdown",
   "id": "40cd2f03-c488-4fc8-9b2e-14c2e4595326",
   "metadata": {},
   "source": [
    "[<img src=\"bilder/seaborn.png\"  width=\"400\" height=\"300\"  title=\"Seaborn\">](https://seaborn.pydata.org/)"
   ]
  },
  {
   "cell_type": "markdown",
   "id": "bf2160f8-6f37-4ef6-be40-586bd4f415b1",
   "metadata": {},
   "source": [
    "\n",
    "Seaborn ist eine Python-Bibliothek, die auf Matplotlib aufbaut und speziell für die Erstellung ansprechender und aussagekräftiger statistischer Grafiken entwickelt wurde. Sie bietet eine einfach zu bedienende Schnittstelle für die Visualisierung von Daten und ermöglicht es, komplexe Diagramme mit nur wenigen Zeilen Code zu erstellen. Seaborn bietet eine Vielzahl von Diagrammtypen und Stilvorlagen, um die Darstellung Ihrer Daten schnell anzupassen und professionelle Ergebnisse zu erzielen.\n"
   ]
  },
  {
   "cell_type": "code",
   "execution_count": null,
   "id": "495d8635-8689-4a81-af3e-59badad9e851",
   "metadata": {},
   "outputs": [],
   "source": [
    "import seaborn as sns"
   ]
  },
  {
   "cell_type": "markdown",
   "id": "e4a8e23f-196d-4820-8ca5-f823efcd67a9",
   "metadata": {},
   "source": [
    "[sns.regplot](https://seaborn.pydata.org/generated/seaborn.regplot.html#seaborn.regplot)"
   ]
  },
  {
   "cell_type": "code",
   "execution_count": null,
   "id": "ad78ca77-c467-43f7-b0b5-383a77aedd18",
   "metadata": {},
   "outputs": [],
   "source": []
  },
  {
   "cell_type": "markdown",
   "id": "86f57e3e-6f6d-49be-9330-a7c98b0a319f",
   "metadata": {},
   "source": [
    "[sns.histplot](https://seaborn.pydata.org/generated/seaborn.histplot.html#seaborn-histplot)"
   ]
  },
  {
   "cell_type": "code",
   "execution_count": null,
   "id": "ca460dd2-af7f-40c0-ad8a-00cb9521e14c",
   "metadata": {},
   "outputs": [],
   "source": [
    "# in ein Histogramm, können wir sehr einfach eine \"kernel density funtion\" aufsetzen\n",
    "\n"
   ]
  },
  {
   "cell_type": "markdown",
   "id": "e9d33fe3-f7d5-4b5b-b35e-550c468963ed",
   "metadata": {},
   "source": [
    "[sns.catplot](https://seaborn.pydata.org/generated/seaborn.catplot.html#seaborn.catplot)"
   ]
  },
  {
   "cell_type": "code",
   "execution_count": null,
   "id": "096e2522-c6b3-43b8-abbe-235792b61ff7",
   "metadata": {},
   "outputs": [],
   "source": [
    "# verschiedene kategorisch Diagramme\n"
   ]
  },
  {
   "cell_type": "code",
   "execution_count": null,
   "id": "8712a920-54b3-4db8-804c-9ed49327aca9",
   "metadata": {},
   "outputs": [],
   "source": []
  },
  {
   "cell_type": "code",
   "execution_count": null,
   "id": "fe0baf5a-1fc3-426a-9bd4-8b5a723683a0",
   "metadata": {},
   "outputs": [],
   "source": [
    "# mit der \"hue\" Parameter, können wir eine Variable vergleichen\n",
    "\n"
   ]
  },
  {
   "cell_type": "code",
   "execution_count": null,
   "id": "b3cadf87-759c-4a52-abc4-4337925d0346",
   "metadata": {},
   "outputs": [],
   "source": [
    "#  wir können die Größe eines Punktes leicht mit den Werten einer Variablen indexieren\n",
    "plt.figure(figsize=(10, 7))\n",
    "sns.scatterplot(x=\"age\", y=\"poverty_probability\", hue='gender', size=\"education_level\",\n",
    "                palette=sns.color_palette([\"#2ecc71\", \"#e74c3c\"]),\n",
    "                sizes=(10, 50), data=df[:1000]);"
   ]
  },
  {
   "cell_type": "markdown",
   "id": "414c1e18-915e-4bdf-b8ce-c137bc20227f",
   "metadata": {},
   "source": [
    "Falls wir mehr Variablen vergleichen möchten, können wir die [FacetGrid](https://seaborn.pydata.org/generated/seaborn.FacetGrid.html#seaborn.FacetGrid) Methode verwenden"
   ]
  },
  {
   "cell_type": "code",
   "execution_count": null,
   "id": "5c626a6c-cace-4112-899f-5508e4d0c4c0",
   "metadata": {},
   "outputs": [],
   "source": [
    "# wir erstellen das Gitter, und sagen explizit was kommt in die Spalten und Zeilen\n",
    "\n",
    "\n",
    "# Dann können wir die Diagrammtyp wählen\n",
    "\n"
   ]
  },
  {
   "cell_type": "code",
   "execution_count": null,
   "id": "af1c0cd2-b7f2-4e36-9ffe-67ad436c8801",
   "metadata": {},
   "outputs": [],
   "source": [
    "# oder wir können ein pairplot nutzen\n",
    "\n"
   ]
  },
  {
   "cell_type": "code",
   "execution_count": null,
   "id": "ba4ac5df-f905-4790-bbcd-a8c134e29836",
   "metadata": {},
   "outputs": [],
   "source": [
    "# das Heatmap bietet eine tabellarische Form mit Farben auf der Grundlage der Intensität\n",
    "plt.figure(figsize = (40,40))\n",
    "sns.heatmap(round(df.drop(columns = ['country',\n",
    "                                     'gender',\n",
    "                                     'religion' \t,\n",
    "                                     'relationship_to_hh_head',\n",
    "                                     'employment_category_last_year',\n",
    "                                     'employment_type_last_year']).corr(),\n",
    "                  2), \n",
    "            cmap = \"coolwarm\", \n",
    "            annot = True, \n",
    "            annot_kws = {\"size\":12});"
   ]
  }
 ],
 "metadata": {
  "kernelspec": {
   "display_name": "Python 3 (ipykernel)",
   "language": "python",
   "name": "python3"
  },
  "language_info": {
   "codemirror_mode": {
    "name": "ipython",
    "version": 3
   },
   "file_extension": ".py",
   "mimetype": "text/x-python",
   "name": "python",
   "nbconvert_exporter": "python",
   "pygments_lexer": "ipython3",
   "version": "3.10.6"
  }
 },
 "nbformat": 4,
 "nbformat_minor": 5
}
