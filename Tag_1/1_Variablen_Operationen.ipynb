{
 "cells": [
  {
   "cell_type": "markdown",
   "id": "0170007e-e5c6-4560-a4d8-5d279bc4cf8a",
   "metadata": {},
   "source": [
    "# 1 - Setup"
   ]
  },
  {
   "cell_type": "markdown",
   "id": "b5e67c2f-49cc-4b15-99b8-efe258e2240c",
   "metadata": {},
   "source": [
    "[<img src=\"bilder/python.png\"  width=\"400\" height=\"200\"  title=\"Python Webpage\">](https://www.python.org/)"
   ]
  },
  {
   "cell_type": "markdown",
   "id": "e2360a92-da16-4504-86b1-03c0a976fe44",
   "metadata": {},
   "source": [
    "## Was ist Python?\n",
    "\n",
    "Python ist eine Programmiersprache:\n",
    "- **Highlevel** : Seine Befehle sind leicht zu verstehen und es erledigt viele Aufgaben automatisch. Es ist eine Maske für andere niedrige Programmiersprachen (nämlich C)\n",
    "- **Interpretiert** : Der Interpreter führt den Quellcode Zeile für Zeile aus, ohne ihn zu kompilieren. Das macht ihn zwar flexibler und geeigneter für die Entwicklung (autocomplete), aber er ist im Vergleich zu anderen Sprachen eher langsam\n",
    "- **Dynamisch typisiert** : die Variablentypen werden Dynamisch zur Laufzeit festgelegt. Es vereinfacht das Codieren, macht aber Programme langsamer als statisch typisierte Sprachen \n",
    "- **Vielseitig** : es wird in der Webentwicklung, der Datenanalyse, der künstlichen Intelligenz, der wissenschaftlichen Datenverarbeitung und mehr eingesetzt\n",
    "- **Objektorientierte Programmierung (OOP)** : Auf dem Konzept der \"Objekte\" basiert, die Daten (Attribute oder Eigenschaften) und Code (Methoden oder Funktionen) enthalten können. In OOP werden Programme durch das Erstellen, Bearbeiten und Interagieren mit diesen Objekten entworfen"
   ]
  },
  {
   "cell_type": "markdown",
   "id": "be369497-7b3d-40fe-8b04-ed3b8833efd8",
   "metadata": {},
   "source": [
    "[<img src=\"bilder/jupyter_lab.png\"  width=\"400\" height=\"200\"  title=\"Jupyter Lab Webpage\">](https://jupyter.org/)"
   ]
  },
  {
   "cell_type": "markdown",
   "id": "e662473b-e952-435a-a3b1-bbcc9e3a5ac6",
   "metadata": {},
   "source": [
    "## Was ist JupyterLab?\n",
    "\n",
    "JupyterLab ist eine interaktive Entwicklungsumgebung\n",
    "\n",
    "- **Notebooks** : Mit denen wir Code, Text und Visualisierungen kombinieren können. Ideal für <ins>Entwicklung</ins>\n",
    "- **Code** : Viele Spachen sind verfügbar (Python, R, C++, JavaScript, ...)\n",
    "- **Text** : mit [Markdown](https://www.markdownguide.org/basic-syntax/) definiert "
   ]
  },
  {
   "cell_type": "code",
   "execution_count": null,
   "id": "3eb6f33a-34db-48ce-9deb-729876f12f84",
   "metadata": {},
   "outputs": [],
   "source": []
  },
  {
   "cell_type": "markdown",
   "id": "1c59bcd7-131c-43a2-bd4f-9615d0bfb9e6",
   "metadata": {},
   "source": [
    "## 2 - Numerische Variablen"
   ]
  },
  {
   "cell_type": "markdown",
   "id": "7f9ded73-c1aa-4093-9597-e33d393ad021",
   "metadata": {},
   "source": [
    "In Python gibt es verschiedene Typen numerischer Variablen:"
   ]
  },
  {
   "cell_type": "markdown",
   "id": "4f9ea392-35d0-4ec0-88d0-e7f7f397fd51",
   "metadata": {},
   "source": [
    "```int``` ist ein **ganze Zahl** <br>\n",
    "Ganzzahlen in Python haben eine unbegrenzte Genauigkeit, d. h. sie können sehr große oder sehr kleine Zahlen darstellen, ohne an Genauigkeit zu verlieren."
   ]
  },
  {
   "cell_type": "code",
   "execution_count": null,
   "id": "61c0a8cf-4b97-4e77-9ce3-7f979b3ec39c",
   "metadata": {},
   "outputs": [],
   "source": []
  },
  {
   "cell_type": "markdown",
   "id": "c5873b68-95a4-455d-b7e1-1a3f0e1a7983",
   "metadata": {},
   "source": [
    "```float``` is ein **Fließkommazahl**<br>\n",
    "Sie stellen reelle Zahlen dar, einschließlich Zahlen mit einem Bruchteil.<br>\n",
    "Fließkommazahlen in Python folgen dem IEEE 754-Standard für die Darstellung reeller Zahlen in Computern, was bedeutet, dass sie eine begrenzte Genauigkeit haben. <br>\n",
    "Dies kann manchmal zu kleinen Rundungsfehlern führen, wenn arithmetische Operationen mit Fließkommazahlen durchgeführt werden."
   ]
  },
  {
   "cell_type": "code",
   "execution_count": null,
   "id": "487f8840-ab07-47d8-b959-53021107ae4c",
   "metadata": {},
   "outputs": [],
   "source": []
  },
  {
   "cell_type": "code",
   "execution_count": null,
   "id": "9dca82a1-075e-4aa9-8dd2-4bc840580cbe",
   "metadata": {},
   "outputs": [],
   "source": []
  },
  {
   "cell_type": "markdown",
   "id": "54a0f57b-46c2-4cb6-a63f-95c410e1b2a7",
   "metadata": {},
   "source": [
    "Python hat viele verfügbare Operationen \"Out of the box\""
   ]
  },
  {
   "cell_type": "code",
   "execution_count": null,
   "id": "7db4c31e-58b1-406e-9b07-1f95a2babc22",
   "metadata": {},
   "outputs": [],
   "source": [
    "# addition"
   ]
  },
  {
   "cell_type": "code",
   "execution_count": null,
   "id": "c5927496-1a70-467f-9b7e-be956ad91ee1",
   "metadata": {},
   "outputs": [],
   "source": [
    "# subtraktion"
   ]
  },
  {
   "cell_type": "code",
   "execution_count": null,
   "id": "78d394f5-dd00-4b59-8ecc-b66e6204a3d8",
   "metadata": {},
   "outputs": [],
   "source": [
    "# multiplikation"
   ]
  },
  {
   "cell_type": "code",
   "execution_count": null,
   "id": "28a1176b-27b7-4d4b-897a-771f8ce17217",
   "metadata": {},
   "outputs": [],
   "source": [
    "# division"
   ]
  },
  {
   "cell_type": "code",
   "execution_count": null,
   "id": "0483f8b5-0197-4656-8362-88749ee66b9a",
   "metadata": {},
   "outputs": [],
   "source": [
    "# bodenteilung, Rückgabe des ganzzahligen Quotienten"
   ]
  },
  {
   "cell_type": "code",
   "execution_count": null,
   "id": "b4e5da07-7203-4cdb-9731-cef6e782427b",
   "metadata": {},
   "outputs": [],
   "source": [
    "# liefert den Rest der Division"
   ]
  },
  {
   "cell_type": "code",
   "execution_count": null,
   "id": "e25d8275-5ff1-4fce-bc5c-7c5bf990b70a",
   "metadata": {},
   "outputs": [],
   "source": [
    "# potenzierung"
   ]
  },
  {
   "cell_type": "markdown",
   "id": "f17a0d16-b413-48d7-b95c-4468c184bf63",
   "metadata": {},
   "source": [
    "## 3 - Strings"
   ]
  },
  {
   "cell_type": "markdown",
   "id": "c2fcccf6-b4d6-40ac-a50e-1f597a67903c",
   "metadata": {},
   "source": [
    "Strings (```str```) sind Anordnungen von Zeichen, die Text (Wörter, Sätze, Absätze) darstellen.<br>\n",
    "Sie sind mit '  ' oder \"  \" identifiziert.\n",
    "Python hat eine [lange Liste von Methoden](https://docs.python.org/3.8/library/stdtypes.html#string-methods) für Strings"
   ]
  },
  {
   "cell_type": "code",
   "execution_count": null,
   "id": "9afa50fe-1031-4a06-a7b0-d12fe8aca4df",
   "metadata": {},
   "outputs": [],
   "source": []
  },
  {
   "cell_type": "markdown",
   "id": "6110571d-ebbe-4576-87df-d986df112709",
   "metadata": {},
   "source": [
    "Wir können in Python sehr einfach eine Variable zuweisen\n",
    "\n",
    "‼️ nur ein ```=``` für Zuweisung ‼️ "
   ]
  },
  {
   "cell_type": "code",
   "execution_count": null,
   "id": "7fc00476-a83c-4069-889c-41910c158bf6",
   "metadata": {},
   "outputs": [],
   "source": []
  },
  {
   "cell_type": "code",
   "execution_count": null,
   "id": "ff8c097c-4441-4eba-aa4c-d07f5b63d673",
   "metadata": {},
   "outputs": [],
   "source": []
  },
  {
   "cell_type": "code",
   "execution_count": null,
   "id": "5bb9232a-1d68-4e24-944c-22dfda28bc38",
   "metadata": {},
   "outputs": [],
   "source": []
  },
  {
   "cell_type": "code",
   "execution_count": null,
   "id": "6ed0844a-5b02-48ad-affb-c3670a375678",
   "metadata": {},
   "outputs": [],
   "source": []
  },
  {
   "cell_type": "code",
   "execution_count": null,
   "id": "0ee6df08-4055-4f5b-9b4f-205ac7933dc3",
   "metadata": {},
   "outputs": [],
   "source": []
  },
  {
   "cell_type": "code",
   "execution_count": null,
   "id": "23796469-8bc6-4838-8353-8f21941179b8",
   "metadata": {},
   "outputs": [],
   "source": [
    "# Ein Satz in Wörter teilen\n"
   ]
  },
  {
   "cell_type": "code",
   "execution_count": null,
   "id": "d299b3ff-06a1-4457-ab4b-d9f4bc520123",
   "metadata": {},
   "outputs": [],
   "source": [
    "# Kleinbuchstaben\n"
   ]
  },
  {
   "cell_type": "code",
   "execution_count": null,
   "id": "2428b5cf-0cea-47b3-80f2-7e7b41ad6f40",
   "metadata": {},
   "outputs": [],
   "source": [
    "# Zeichenkette suchen\n"
   ]
  },
  {
   "cell_type": "markdown",
   "id": "bb06c345-8a8e-49de-b47e-105a6f3d97cd",
   "metadata": {},
   "source": [
    "Komplexere ```str``` können einfach mit einem ```+``` gemacht werden"
   ]
  },
  {
   "cell_type": "code",
   "execution_count": null,
   "id": "79ceb13a-a7a8-450c-b8b7-5dd53537a680",
   "metadata": {},
   "outputs": [],
   "source": []
  },
  {
   "cell_type": "code",
   "execution_count": null,
   "id": "2cab079b-c99d-4d83-947c-6d7473f3df0b",
   "metadata": {},
   "outputs": [],
   "source": []
  },
  {
   "cell_type": "markdown",
   "id": "2b48e6cc-d738-4fdb-a2d7-0b278af5a0c3",
   "metadata": {},
   "source": [
    "Aber oft ist das nicht flexibel genug. <br>In vielen Fällen haben wir eine Satzvorlage, die wir mit dem Inhalt einer Variablen füllen möchten. In solchen Fällen ist das Beste, was man verwenden kann, eine [f-string](https://realpython.com/python-f-strings/)."
   ]
  },
  {
   "cell_type": "code",
   "execution_count": null,
   "id": "3fc99c08-cb98-4989-a2d6-6b5e173b9111",
   "metadata": {},
   "outputs": [],
   "source": []
  },
  {
   "cell_type": "code",
   "execution_count": null,
   "id": "2ffd2775-d67b-493c-a42b-def50a344336",
   "metadata": {},
   "outputs": [],
   "source": []
  },
  {
   "cell_type": "markdown",
   "id": "2e88c749-f90c-4514-9a76-671988e11f08",
   "metadata": {},
   "source": [
    "## 4 - Logische Variablen"
   ]
  },
  {
   "cell_type": "markdown",
   "id": "b06f260c-f893-40c7-912f-2c967e23018a",
   "metadata": {},
   "source": [
    "Variblen die in logische Operationen (gleich, ungleich, usw.) verwendet werden können.<br>\n",
    "Meistens <ins>\"boolesch\"</ins><ins>\"boolean\"</ins> (```bool```): True und False"
   ]
  },
  {
   "cell_type": "code",
   "execution_count": null,
   "id": "4c82ff84-feab-4506-b49e-a85209d79f8f",
   "metadata": {},
   "outputs": [],
   "source": []
  },
  {
   "cell_type": "code",
   "execution_count": null,
   "id": "94e419f4-030e-4854-a16b-aece5a5bf614",
   "metadata": {},
   "outputs": [],
   "source": []
  },
  {
   "cell_type": "markdown",
   "id": "b5bb4561-bdaa-466a-b0fa-90e5f335fce2",
   "metadata": {},
   "source": [
    "‼️ zwei ```==``` für Gleichheit/Wahrheit testen ‼️ "
   ]
  },
  {
   "cell_type": "code",
   "execution_count": null,
   "id": "3da31ce0-76ee-4fcf-9e3e-d50387091394",
   "metadata": {},
   "outputs": [],
   "source": [
    "# gleich"
   ]
  },
  {
   "cell_type": "code",
   "execution_count": null,
   "id": "d85f406c-257b-4902-80a6-6274b400353f",
   "metadata": {},
   "outputs": [],
   "source": [
    " # ungleich"
   ]
  },
  {
   "cell_type": "code",
   "execution_count": null,
   "id": "446bcff5-6e94-4831-953a-af4059afae60",
   "metadata": {},
   "outputs": [],
   "source": [
    "# negation"
   ]
  },
  {
   "cell_type": "code",
   "execution_count": null,
   "id": "92551916-4309-46c9-95a2-4b50e7cc62f4",
   "metadata": {},
   "outputs": [],
   "source": [
    "# und"
   ]
  },
  {
   "cell_type": "code",
   "execution_count": null,
   "id": "932f638f-f796-4dbe-85ed-384e0934593c",
   "metadata": {},
   "outputs": [],
   "source": [
    "# oder"
   ]
  },
  {
   "cell_type": "markdown",
   "id": "e5330a3e-5c22-4d16-9f30-89c73392b78e",
   "metadata": {},
   "source": [
    "Einige Werte sind so <ins>ähnlich</ins> wie ```True``` oder ```False```, dass Python die <ins>Entsprechung</ins> automatisch vornimmt.<br>\n",
    "Das nennt mann **Truthy** und **Falsy**"
   ]
  },
  {
   "cell_type": "code",
   "execution_count": null,
   "id": "6d7fc2a9-cb2e-483e-96ca-823de1e6027b",
   "metadata": {},
   "outputs": [],
   "source": []
  },
  {
   "cell_type": "code",
   "execution_count": null,
   "id": "2f741ac4-ff5e-46a6-8c45-11b87de02dd4",
   "metadata": {},
   "outputs": [],
   "source": []
  },
  {
   "cell_type": "code",
   "execution_count": null,
   "id": "88e7959f-4cac-44d8-b2ce-3a2117e3aa57",
   "metadata": {},
   "outputs": [],
   "source": []
  },
  {
   "cell_type": "markdown",
   "id": "d3c2c9f3-7ca8-4ee9-bc8b-ffc258837b8d",
   "metadata": {},
   "source": [
    "Viele andere Objekte haben eine [**Truthyness**](https://www.freecodecamp.org/news/truthy-and-falsy-values-in-python/) (Wahrheitswert).<br>\n",
    "Um diesen zu bestimmen, können wir die bool() Funktion verwenden."
   ]
  },
  {
   "cell_type": "code",
   "execution_count": null,
   "id": "2080f658-dbab-42ba-ba38-fd2890ad14a1",
   "metadata": {},
   "outputs": [],
   "source": []
  },
  {
   "cell_type": "code",
   "execution_count": null,
   "id": "b2cd9167-53fa-47fb-96b4-065527a9f8ba",
   "metadata": {},
   "outputs": [],
   "source": []
  },
  {
   "cell_type": "code",
   "execution_count": null,
   "id": "86ed6194-17e2-4dd4-948c-39fe234b32f3",
   "metadata": {},
   "outputs": [],
   "source": []
  },
  {
   "cell_type": "code",
   "execution_count": null,
   "id": "cfff5c36-98c7-4395-afdc-d8a78bcdc78f",
   "metadata": {},
   "outputs": [],
   "source": []
  },
  {
   "cell_type": "code",
   "execution_count": null,
   "id": "92b2d614-2452-43db-b38e-214564d1aad0",
   "metadata": {},
   "outputs": [],
   "source": []
  },
  {
   "cell_type": "markdown",
   "id": "ec8869c3-841c-437f-a2fb-bd7ad5052446",
   "metadata": {},
   "source": [
    "Numerische Vergleichungen sind auch sehr einfach zu verstehen"
   ]
  },
  {
   "cell_type": "code",
   "execution_count": null,
   "id": "ea3fd3c4-077e-4022-85d2-98d10e7ab864",
   "metadata": {},
   "outputs": [],
   "source": []
  },
  {
   "cell_type": "code",
   "execution_count": null,
   "id": "7b9b6c67-3d26-4355-a01f-506d7f38e189",
   "metadata": {},
   "outputs": [],
   "source": []
  },
  {
   "cell_type": "code",
   "execution_count": null,
   "id": "fd6840a5-6b8e-4bcf-a131-3f65c605154d",
   "metadata": {},
   "outputs": [],
   "source": []
  },
  {
   "cell_type": "code",
   "execution_count": null,
   "id": "5129afcb-eb62-42e8-ac6a-2e2f255db54a",
   "metadata": {},
   "outputs": [],
   "source": []
  },
  {
   "cell_type": "markdown",
   "id": "18a43040-a3c4-42a9-a365-084bccbe5e20",
   "metadata": {},
   "source": [
    "Oder **str** Vergleichungen "
   ]
  },
  {
   "cell_type": "code",
   "execution_count": null,
   "id": "7240a43e-72f2-4f6e-98d0-47bc0541ab10",
   "metadata": {},
   "outputs": [],
   "source": []
  },
  {
   "cell_type": "code",
   "execution_count": null,
   "id": "9b201eb6-8d59-4a6d-9ef4-aa2c31589030",
   "metadata": {},
   "outputs": [],
   "source": []
  },
  {
   "cell_type": "code",
   "execution_count": null,
   "id": "97913662-7d37-4bcc-91d5-557d39a514f1",
   "metadata": {},
   "outputs": [],
   "source": []
  },
  {
   "cell_type": "markdown",
   "id": "0cd3362e-7948-4f49-bd89-bc3aa621d38a",
   "metadata": {},
   "source": [
    "## 5 - Strukturen"
   ]
  },
  {
   "cell_type": "markdown",
   "id": "765b9a7e-9561-499a-9bfc-2a2c7092e31b",
   "metadata": {},
   "source": [
    "Es ist oft sinnvoll, Variablen in Strukturen zu gruppieren, um eine Beziehung zwischen ihnen zu definieren"
   ]
  },
  {
   "cell_type": "markdown",
   "id": "03b2bc0c-5289-48bb-b537-a19669319db4",
   "metadata": {},
   "source": [
    "### ```list```\n",
    "Geordnete Sammlungen von Elementen, die verschiedene Datentypen enthalten können"
   ]
  },
  {
   "cell_type": "code",
   "execution_count": null,
   "id": "3a3c0047-82b7-4cbc-b612-3affcefb439c",
   "metadata": {},
   "outputs": [],
   "source": [
    "# list"
   ]
  },
  {
   "cell_type": "code",
   "execution_count": null,
   "id": "5f021475-1e4a-41d4-b1c3-012c6485c6ba",
   "metadata": {},
   "outputs": [],
   "source": []
  },
  {
   "cell_type": "code",
   "execution_count": null,
   "id": "4e133e09-dd6e-427a-8929-29837ffedb29",
   "metadata": {},
   "outputs": [],
   "source": []
  },
  {
   "cell_type": "code",
   "execution_count": null,
   "id": "778dc951-9eff-4c38-b28a-7eaeac7ebd38",
   "metadata": {},
   "outputs": [],
   "source": [
    "# Zugriff auf eine bestimmte Position in der Liste"
   ]
  },
  {
   "cell_type": "code",
   "execution_count": null,
   "id": "a9f73f2a-bab0-4a0e-b03f-e4d1ff0ee6f8",
   "metadata": {},
   "outputs": [],
   "source": []
  },
  {
   "cell_type": "code",
   "execution_count": null,
   "id": "d643ef2d-bd6e-4f49-aac6-b62b14a7e4cb",
   "metadata": {},
   "outputs": [],
   "source": [
    "# Zugriff auf die letzte Position in der Liste\n"
   ]
  },
  {
   "cell_type": "code",
   "execution_count": null,
   "id": "d76be598-5a7d-457b-bf7f-9913d36902d2",
   "metadata": {},
   "outputs": [],
   "source": [
    "# Liste Größe\n"
   ]
  },
  {
   "cell_type": "code",
   "execution_count": null,
   "id": "6f319121-3fc7-4d02-b84b-d59a21492a4d",
   "metadata": {},
   "outputs": [],
   "source": [
    "# suchen in die Liste"
   ]
  },
  {
   "cell_type": "code",
   "execution_count": null,
   "id": "7a95e042-6f9e-4a8a-8e12-23452df00073",
   "metadata": {},
   "outputs": [],
   "source": [
    "# in die Liste hinfügen"
   ]
  },
  {
   "cell_type": "code",
   "execution_count": null,
   "id": "edec7d04-af5a-4046-bc13-67c05d5821e6",
   "metadata": {},
   "outputs": [],
   "source": [
    "# Element ändern"
   ]
  },
  {
   "cell_type": "code",
   "execution_count": null,
   "id": "662d920b-2ff7-46db-a8e8-890705dbf5e5",
   "metadata": {},
   "outputs": [],
   "source": [
    "# Bereich zugreifen"
   ]
  },
  {
   "cell_type": "code",
   "execution_count": null,
   "id": "0d2a5708-8932-4cee-b6ca-df16df902918",
   "metadata": {},
   "outputs": [],
   "source": []
  },
  {
   "cell_type": "markdown",
   "id": "7e1bbed4-cdb6-4c33-ab20-70ef95ec5247",
   "metadata": {},
   "source": [
    "<ins>```str```</ins> ist wirklich eine spezielle Liste von Zeichnen!\n"
   ]
  },
  {
   "cell_type": "code",
   "execution_count": null,
   "id": "ad29da72-5f20-4f0d-b3ed-a0ed5389c8d2",
   "metadata": {},
   "outputs": [],
   "source": []
  },
  {
   "cell_type": "code",
   "execution_count": null,
   "id": "68a7027e-ecee-4c85-b22a-bc08b9bfed48",
   "metadata": {},
   "outputs": [],
   "source": []
  },
  {
   "cell_type": "code",
   "execution_count": null,
   "id": "a1fe5c75-7586-4795-b092-805003f47f7f",
   "metadata": {},
   "outputs": [],
   "source": []
  },
  {
   "cell_type": "code",
   "execution_count": null,
   "id": "9b4ff6ae-17c6-45bc-a317-d1e3777b791f",
   "metadata": {},
   "outputs": [],
   "source": []
  },
  {
   "cell_type": "markdown",
   "id": "4366ba6c-f38d-4bac-8346-a00ff61a3475",
   "metadata": {},
   "source": [
    "### ```tuple```\n",
    "**Unveränderliche**, geordnete Sammlung von Elementen verschiedener Datentypen"
   ]
  },
  {
   "cell_type": "code",
   "execution_count": null,
   "id": "6115f507-0c21-42c1-821c-68c14c33ba7c",
   "metadata": {},
   "outputs": [],
   "source": []
  },
  {
   "cell_type": "code",
   "execution_count": null,
   "id": "98653012-dd6b-48ef-9e72-c99eec4898f6",
   "metadata": {},
   "outputs": [],
   "source": []
  },
  {
   "cell_type": "code",
   "execution_count": null,
   "id": "fb2ceae4-f57e-4bab-81a0-16e78f1d519b",
   "metadata": {},
   "outputs": [],
   "source": []
  },
  {
   "cell_type": "code",
   "execution_count": null,
   "id": "6f4e0014-40bb-423f-bd9a-7b47b5776c24",
   "metadata": {},
   "outputs": [],
   "source": []
  },
  {
   "cell_type": "markdown",
   "id": "5b282b5d-a7a1-4006-9f3a-1cf410cba4ea",
   "metadata": {},
   "source": [
    "### ```range```\n",
    "Sequenz von Zahlen, die durch einen Anfangswert, einen Endwert und einen optionalen Schritt definiert wird und häufig in Schleifen und Iterationen verwendet wird"
   ]
  },
  {
   "cell_type": "code",
   "execution_count": null,
   "id": "f4b2e847-121e-474a-a959-b1198e735a77",
   "metadata": {},
   "outputs": [],
   "source": []
  },
  {
   "cell_type": "code",
   "execution_count": null,
   "id": "c4af2b2e-7ec7-478b-9d99-2b6dc59db26b",
   "metadata": {},
   "outputs": [],
   "source": []
  },
  {
   "cell_type": "markdown",
   "id": "f3de162d-2f80-4372-89bd-76234731c849",
   "metadata": {},
   "source": [
    "### ```dict``` (dictionary)\n",
    "Ungeordnete Sammlung von Elementen, die **Schlüssel-Wert-Paare** enthält"
   ]
  },
  {
   "cell_type": "code",
   "execution_count": null,
   "id": "664830f4-8a88-478b-ba14-c29bdcb3ea06",
   "metadata": {},
   "outputs": [],
   "source": [
    "# Erstellung"
   ]
  },
  {
   "cell_type": "code",
   "execution_count": null,
   "id": "4f9d835c-370a-42a3-a249-20d5b3e910fe",
   "metadata": {},
   "outputs": [],
   "source": []
  },
  {
   "cell_type": "code",
   "execution_count": null,
   "id": "29ca1af0-c200-42ec-a60e-08c51b35f584",
   "metadata": {},
   "outputs": [],
   "source": []
  },
  {
   "cell_type": "code",
   "execution_count": null,
   "id": "48e6d535-e020-4476-991b-997c689f73ea",
   "metadata": {},
   "outputs": [],
   "source": []
  },
  {
   "cell_type": "markdown",
   "id": "4e064045-50a0-4565-b178-f54d8f4f43ed",
   "metadata": {},
   "source": [
    "Das ```dict``` verfügt über verschiedene Methoden, die eine einfache Navigation innerhalb seiner Einträge (Schlüssel-Wert-Paare) ermöglichen"
   ]
  },
  {
   "cell_type": "code",
   "execution_count": null,
   "id": "5285f79a-3e16-464f-9fcc-05c5607a30db",
   "metadata": {},
   "outputs": [],
   "source": []
  },
  {
   "cell_type": "code",
   "execution_count": null,
   "id": "c5e80c86-ee0e-433d-a732-04663b17f0c9",
   "metadata": {},
   "outputs": [],
   "source": []
  },
  {
   "cell_type": "code",
   "execution_count": null,
   "id": "479b6f7b-2669-4124-9048-58dc6abb0394",
   "metadata": {},
   "outputs": [],
   "source": []
  },
  {
   "cell_type": "code",
   "execution_count": null,
   "id": "0e9ed6e7-64e3-4316-bb30-d356ca311acf",
   "metadata": {},
   "outputs": [],
   "source": []
  },
  {
   "cell_type": "code",
   "execution_count": null,
   "id": "b89b8b7f-c3dc-4848-97dc-3090c9c52fa6",
   "metadata": {},
   "outputs": [],
   "source": []
  },
  {
   "cell_type": "code",
   "execution_count": null,
   "id": "6a753fe1-e821-42d5-a9b8-03010a7ced36",
   "metadata": {},
   "outputs": [],
   "source": []
  },
  {
   "cell_type": "code",
   "execution_count": null,
   "id": "7dadd5e5-ce46-4ffc-b995-66e24c374371",
   "metadata": {},
   "outputs": [],
   "source": []
  },
  {
   "cell_type": "code",
   "execution_count": null,
   "id": "2ce093be-07db-49d7-8131-a1d29ddbc356",
   "metadata": {},
   "outputs": [],
   "source": []
  },
  {
   "cell_type": "code",
   "execution_count": null,
   "id": "db833fea-5c13-46d9-9753-ca91366f4526",
   "metadata": {},
   "outputs": [],
   "source": []
  },
  {
   "cell_type": "markdown",
   "id": "d8d5cd98-b113-47b4-8738-e36bbfcf7c4c",
   "metadata": {},
   "source": [
    "<span style=\"font-size:1.3em;\">⚙️ <ins>```dict``` Anweisung</ins></span>\n",
    "\n",
    "Gegeben ist ein Wörterbuch mit den Namen und weitere Infos von Personen.<br>\n",
    "Antwort die folgenden Frage:<br>\n",
    "- Wie alt ist Anna?\n",
    "- Wo wohn Lena?\n",
    "- Wie alt ist der zweiten Kind von Tim?"
   ]
  },
  {
   "cell_type": "code",
   "execution_count": 2,
   "id": "96d4cfd3-3d1c-43d3-a9d7-0b75adf74124",
   "metadata": {},
   "outputs": [],
   "source": [
    "personen = {\n",
    "    \"Max\": {\n",
    "            'alter' : 25, \n",
    "            'wohnort' : 'Düsseldorf', \n",
    "            'kinderalter' : [3,1]\n",
    "           } ,\n",
    "    \"Anna\": {\n",
    "            'alter' : 30, \n",
    "            'wohnort' : 'Köln', \n",
    "            'kinderalter' : [5]\n",
    "           },\n",
    "    \"Lena\": {\n",
    "            'alter' : 28, \n",
    "            'wohnort' : 'Köln', \n",
    "            'kinderalter' : []\n",
    "           },\n",
    "\n",
    "    \"Tim\":  {\n",
    "            'alter' : 35, \n",
    "            'wohnort' : 'Köln', \n",
    "            'kinderalter' : [3,1]\n",
    "           }\n",
    "}"
   ]
  },
  {
   "cell_type": "code",
   "execution_count": null,
   "id": "0c744827-2502-4594-8dd4-448372242445",
   "metadata": {},
   "outputs": [],
   "source": []
  }
 ],
 "metadata": {
  "kernelspec": {
   "display_name": "Python 3 (ipykernel)",
   "language": "python",
   "name": "python3"
  },
  "language_info": {
   "codemirror_mode": {
    "name": "ipython",
    "version": 3
   },
   "file_extension": ".py",
   "mimetype": "text/x-python",
   "name": "python",
   "nbconvert_exporter": "python",
   "pygments_lexer": "ipython3",
   "version": "3.10.6"
  }
 },
 "nbformat": 4,
 "nbformat_minor": 5
}
