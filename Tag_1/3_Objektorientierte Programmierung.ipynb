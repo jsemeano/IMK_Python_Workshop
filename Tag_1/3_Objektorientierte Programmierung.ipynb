{
 "cells": [
  {
   "cell_type": "markdown",
   "id": "120efd46-545f-4287-a83e-390ae75cc271",
   "metadata": {},
   "source": [
    "# Objektorientierte Programmierung"
   ]
  },
  {
   "cell_type": "markdown",
   "id": "b82df05c-0fa7-4d57-9938-fc587673db48",
   "metadata": {},
   "source": [
    "[Objektorientierte Programmierung](https://anandology.com/python-practice-book/object_oriented_programming.html)"
   ]
  },
  {
   "cell_type": "code",
   "execution_count": null,
   "id": "c6042a21-b6e3-4a35-a624-3090bfa10ab9",
   "metadata": {},
   "outputs": [],
   "source": []
  },
  {
   "cell_type": "code",
   "execution_count": null,
   "id": "f87d301d-a598-461a-8ba8-f309a51dea15",
   "metadata": {},
   "outputs": [],
   "source": []
  },
  {
   "cell_type": "code",
   "execution_count": null,
   "id": "63ba52ad-03a7-480b-87e0-902326d09693",
   "metadata": {},
   "outputs": [],
   "source": []
  },
  {
   "cell_type": "code",
   "execution_count": null,
   "id": "96922a4e-decc-4e9a-afe2-7178f1640e31",
   "metadata": {},
   "outputs": [],
   "source": []
  },
  {
   "cell_type": "markdown",
   "id": "e1af9193-c9ae-4b2c-8770-bfc43fedaa62",
   "metadata": {},
   "source": [
    "## Modules"
   ]
  },
  {
   "cell_type": "markdown",
   "id": "addbf796-45d7-41b6-903b-9a79c311aedb",
   "metadata": {},
   "source": [
    "As our programs will grow longer, we will want to split the code into many files & folders.\n",
    "\n",
    "Here is a very simple example to illustrate this technique:"
   ]
  },
  {
   "cell_type": "code",
   "execution_count": null,
   "id": "674433eb-38f7-4afe-90a8-5ad9513e90e5",
   "metadata": {},
   "outputs": [],
   "source": [
    "mkdir project && cd project\n",
    "touch app.py\n",
    "mkdir helpers && touch helpers/__init__.py"
   ]
  },
  {
   "cell_type": "code",
   "execution_count": null,
   "id": "4bae4426-d996-4d3c-84a1-bd06ebfdd9ff",
   "metadata": {},
   "outputs": [],
   "source": [
    "# helpers/__init__.py\n",
    "import random\n",
    "import string\n",
    "\n",
    "def generate_password(size):\n",
    "    \"\"\"Generate a random lowercase ASCII password of given size\"\"\"\n",
    "    letters = string.ascii_lowercase\n",
    "    return ''.join(random.choice(letters) for i in range(size))"
   ]
  },
  {
   "cell_type": "code",
   "execution_count": null,
   "id": "90c72756-7df3-4882-b9b8-c7177ecbf592",
   "metadata": {},
   "outputs": [],
   "source": [
    "# app.py\n",
    "from helpers import generate_password # Module import here\n",
    "\n",
    "print(generate_password(16))"
   ]
  },
  {
   "cell_type": "code",
   "execution_count": null,
   "id": "332e91fb-532a-4b60-b920-c85e0a078c34",
   "metadata": {},
   "outputs": [],
   "source": []
  },
  {
   "cell_type": "code",
   "execution_count": null,
   "id": "5a8e5303-0ecd-4e36-8a2a-42b14bfc3132",
   "metadata": {},
   "outputs": [],
   "source": []
  },
  {
   "cell_type": "code",
   "execution_count": null,
   "id": "00a80272-e89c-4f93-b80f-67d1894bc175",
   "metadata": {},
   "outputs": [],
   "source": []
  },
  {
   "cell_type": "code",
   "execution_count": null,
   "id": "42532ad6-ee7c-4bf7-8923-0bb5ef362e19",
   "metadata": {},
   "outputs": [],
   "source": []
  }
 ],
 "metadata": {
  "kernelspec": {
   "display_name": "Python 3 (ipykernel)",
   "language": "python",
   "name": "python3"
  },
  "language_info": {
   "codemirror_mode": {
    "name": "ipython",
    "version": 3
   },
   "file_extension": ".py",
   "mimetype": "text/x-python",
   "name": "python",
   "nbconvert_exporter": "python",
   "pygments_lexer": "ipython3",
   "version": "3.10.6"
  }
 },
 "nbformat": 4,
 "nbformat_minor": 5
}
