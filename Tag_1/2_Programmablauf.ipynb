{
 "cells": [
  {
   "cell_type": "markdown",
   "id": "5f6b94cc-6ce6-49ff-a209-8f3088a46ed8",
   "metadata": {},
   "source": [
    "# 2 - Programmablauf"
   ]
  },
  {
   "cell_type": "markdown",
   "id": "df13a5a3-724f-4abc-aea7-f359d3546d2d",
   "metadata": {},
   "source": [
    "Die Kontrollflusssteuerung in der Programmierung bezieht sich darauf, wie die Reihenfolge von Anweisungen in einem Programm gesteuert wird, basierend auf bestimmten Bedingungen oder Ereignissen. Dies ist wichtig, um Entscheidungen zu treffen und den Programmfluss je nach Situation zu verzweigen, um unterschiedliche Aktionen auszuführen."
   ]
  },
  {
   "cell_type": "markdown",
   "id": "a1565f52-c660-4c99-9805-88e331e7f1d4",
   "metadata": {},
   "source": [
    "## 1 - if"
   ]
  },
  {
   "cell_type": "code",
   "execution_count": 1,
   "id": "1954561a-be42-4112-9046-efdf4f659266",
   "metadata": {},
   "outputs": [
    {
     "data": {
      "text/plain": [
       "True"
      ]
     },
     "execution_count": 1,
     "metadata": {},
     "output_type": "execute_result"
    }
   ],
   "source": [
    "1 == 1"
   ]
  },
  {
   "cell_type": "code",
   "execution_count": 2,
   "id": "67f1ac8d-9ba9-40e4-b58d-923483a86f77",
   "metadata": {},
   "outputs": [
    {
     "name": "stdout",
     "output_type": "stream",
     "text": [
      "wahr\n"
     ]
    }
   ],
   "source": [
    "if 1 == 1:\n",
    "    print('wahr')"
   ]
  },
  {
   "cell_type": "code",
   "execution_count": 3,
   "id": "ae4c8698-567e-40ba-8f6f-ef753565582b",
   "metadata": {},
   "outputs": [],
   "source": [
    "a = 1"
   ]
  },
  {
   "cell_type": "code",
   "execution_count": 4,
   "id": "b89d7f26-d47e-4e2d-85fd-dbeef145217a",
   "metadata": {},
   "outputs": [
    {
     "name": "stdout",
     "output_type": "stream",
     "text": [
      "wahr\n"
     ]
    }
   ],
   "source": [
    "if 1 == a:\n",
    "    print('wahr')"
   ]
  },
  {
   "cell_type": "code",
   "execution_count": 5,
   "id": "2f9d1449-453d-4088-ae91-10f365ddb5dc",
   "metadata": {},
   "outputs": [],
   "source": [
    "a = 'one'"
   ]
  },
  {
   "cell_type": "code",
   "execution_count": 7,
   "id": "1eff5819-5e31-4a4c-a239-02840dd0bf9d",
   "metadata": {},
   "outputs": [
    {
     "name": "stdout",
     "output_type": "stream",
     "text": [
      "falsch\n"
     ]
    }
   ],
   "source": [
    "if 1 == a:\n",
    "    print('wahr')\n",
    "else:\n",
    "    print('falsch')"
   ]
  },
  {
   "cell_type": "code",
   "execution_count": null,
   "id": "6d1353c2-727b-4936-82c9-08ffa86b87cd",
   "metadata": {},
   "outputs": [],
   "source": []
  },
  {
   "cell_type": "code",
   "execution_count": null,
   "id": "7fc06816-1f06-42f0-ab43-ff054bf6674b",
   "metadata": {},
   "outputs": [],
   "source": []
  },
  {
   "cell_type": "code",
   "execution_count": null,
   "id": "58bcde44-6dd9-4bbc-846f-5c54280e16f6",
   "metadata": {},
   "outputs": [],
   "source": []
  },
  {
   "cell_type": "code",
   "execution_count": null,
   "id": "e80823ee-c582-4365-8c01-d1363af8a5a0",
   "metadata": {},
   "outputs": [],
   "source": []
  }
 ],
 "metadata": {
  "kernelspec": {
   "display_name": "Python 3 (ipykernel)",
   "language": "python",
   "name": "python3"
  },
  "language_info": {
   "codemirror_mode": {
    "name": "ipython",
    "version": 3
   },
   "file_extension": ".py",
   "mimetype": "text/x-python",
   "name": "python",
   "nbconvert_exporter": "python",
   "pygments_lexer": "ipython3",
   "version": "3.10.6"
  }
 },
 "nbformat": 4,
 "nbformat_minor": 5
}
